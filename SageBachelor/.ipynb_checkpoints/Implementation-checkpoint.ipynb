{
 "cells": [
  {
   "cell_type": "code",
   "execution_count": 8,
   "metadata": {},
   "outputs": [],
   "source": [
    "def Mon(I):\n",
    "    Rold=I.ring()\n",
    "    n=Rold.ngens()\n",
    "    char=str(Rold.gens()[0])[0]\n",
    "    \n",
    "    for k in range(1,2*n+1):\n",
    "        var(char+str(k))\n",
    "    \n",
    "    Rbig=PolynomialRing(QQ,[(char+'%s') %k for k in range(1,2*n+1)],order='invlex')\n",
    "    R=PolynomialRing(QQ,[(char+'%s') %k for k in range(1,n+1)],order='lex')\n",
    "    GB=I.groebner_basis()\n",
    "    \n",
    "    m=Rbig(1)\n",
    "    for k in range(n+1,2*n+1):\n",
    "        m*=Rbig(char+str(k))\n",
    "    GB_big=[m-1]\n",
    " \n",
    "    for f in GB:\n",
    "        f=Rbig(f)\n",
    "        for k in range(1,n+1):\n",
    "            f=f.subs({Rbig(char+str(k)):Rbig(char+str(k))*Rbig(char+str(n+k))})\n",
    "        GB_big+=[f]\n",
    "\n",
    "    MonI=[]\n",
    "    GB_sol=ideal(Rbig,GB_big).groebner_basis()\n",
    "    print(GB_sol)\n",
    "    for g in GB_sol:\n",
    "        if g.lm() < Rbig(char+str(n+1)) and g.lt()==g:\n",
    "            MonI+=[g]\n",
    "    return Ideal(R,MonI).groebner_basis()"
   ]
  },
  {
   "cell_type": "code",
   "execution_count": 45,
   "metadata": {},
   "outputs": [
    {
     "name": "stdout",
     "output_type": "stream",
     "text": [
      "[x2 - 1]\n"
     ]
    },
    {
     "data": {
      "text/plain": [
       "Principal ideal (x1 - 1) of Univariate Polynomial Ring in x1 over Rational Field"
      ]
     },
     "execution_count": 45,
     "metadata": {},
     "output_type": "execute_result"
    }
   ],
   "source": [
    "R.<x1>=QQ[]\n",
    "\n",
    "I=ideal(R,[x1-x1^2-x1^3])\n",
    "getJ(I,[[0]])\n",
    "#GB=I.groebner_basis()\n",
    "#I.groebner_fan().reduced_groebner_bases()"
   ]
  },
  {
   "cell_type": "markdown",
   "metadata": {},
   "source": [
    "#### R.<a,b,c,x,y,z>=PolynomialRing(QQ,6,order='lex')\n",
    "I=ideal(R,[a^3*x^3+b^3*y^3+z^3*c^3,a*x+b*y+c*z,a*b*c-1])\n",
    "I.groebner_basis()"
   ]
  },
  {
   "cell_type": "code",
   "execution_count": 24,
   "metadata": {},
   "outputs": [
    {
     "data": {
      "text/plain": [
       "-y^2 - y*z - z^2"
      ]
     },
     "execution_count": 24,
     "metadata": {},
     "output_type": "execute_result"
    }
   ],
   "source": [
    "(x*y+y*z+z*x).reduce(GB)"
   ]
  },
  {
   "cell_type": "code",
   "execution_count": 32,
   "metadata": {},
   "outputs": [
    {
     "data": {
      "text/plain": [
       "3*x*y*z"
      ]
     },
     "execution_count": 32,
     "metadata": {},
     "output_type": "execute_result"
    }
   ],
   "source": [
    "(x+y+z)*(y*z+z*x+x*y-x^2-y^2-z^2)+(1)*(x^3+y^3+z^3)"
   ]
  },
  {
   "cell_type": "code",
   "execution_count": 62,
   "metadata": {},
   "outputs": [
    {
     "data": {
      "text/plain": [
       "True"
      ]
     },
     "execution_count": 62,
     "metadata": {},
     "output_type": "execute_result"
    }
   ],
   "source": [
    "que=[]\n",
    "que.append(3)\n",
    "que.pop()\n",
    "que==[]#"
   ]
  },
  {
   "cell_type": "code",
   "execution_count": 64,
   "metadata": {},
   "outputs": [
    {
     "data": {
      "text/plain": [
       "[5]"
      ]
     },
     "execution_count": 64,
     "metadata": {},
     "output_type": "execute_result"
    }
   ],
   "source": [
    "a=[12]\n",
    "b=[9,1,2]\n",
    "a=b\n",
    "b=[5]\n",
    "a"
   ]
  },
  {
   "cell_type": "code",
   "execution_count": 158,
   "metadata": {},
   "outputs": [],
   "source": [
    "import numpy as np\n",
    "def BinO(I,t):\n",
    "    n=I.ring().ngens()\n",
    "    Rold=I.ring()\n",
    "    R.<x,y,z,w> = PolynomialRing(QQ,4,order=\"deglex\")\n",
    "    if(n>1):\n",
    "        I=I.change_ring(R).groebner_basis()\n",
    "    else:\n",
    "        I=I.groebner_basis()\n",
    "    p=[]\n",
    "    if(n==4):\n",
    "        for f in I:\n",
    "            v=f.degree()\n",
    "            for a in range(t-v+1):\n",
    "                for b in range(t-v-a+1):\n",
    "                    for c in range(t-v-a-b+1):\n",
    "                        for d in range(t-v-a-b-c+1):\n",
    "                            p.append(f*x^a*y^b*z^c*w^d)\n",
    "    elif(n==3):\n",
    "        for f in I:\n",
    "            v=f.degree()\n",
    "            for a in range(t-v+1):\n",
    "                for b in range(t-v-a+1):\n",
    "                    for c in range(t-v-a-b+1):\n",
    "                        p.append(f*x^a*y^b*z^c)\n",
    "    elif(n==2):\n",
    "        for f in I:\n",
    "            v=f.degree()\n",
    "            for a in range(t-v+1):\n",
    "                for b in range(t-v-a+1):\n",
    "                        p.append(f*x^a*y^b)\n",
    "    elif(n==1):\n",
    "        for f in I:\n",
    "            for a in range(t-f.degree()+1):\n",
    "                        p.append(f*x^a)              \n",
    "                    \n",
    "    A=Sequence(p).coefficient_matrix()\n",
    "    M=Matroid(A[0].right_kernel().basis_matrix()).circuits()\n",
    "    X=[]\n",
    "    for c in M:\n",
    "        if len(c)==2:\n",
    "            x=list(c)\n",
    "            m=R(A[1][x[0]])\n",
    "            n=R(A[1][x[1]])\n",
    "            if m>n:\n",
    "                m,n=n,m\n",
    "            X.append(n-m*(n.reduce(I)/m.reduce(I)))\n",
    "    I=ideal(R,ideal(R,X).groebner_basis()).change_ring(Rold)\n",
    "    return I.groebner_basis()"
   ]
  },
  {
   "cell_type": "code",
   "execution_count": 159,
   "metadata": {},
   "outputs": [],
   "source": [
    "import numpy as np\n",
    "def Bin(I,t):\n",
    "    Rold=I.ring()\n",
    "    n=Rold.ngens()\n",
    "    char=str(I.ring().gens()[0])[0]\n",
    "    R=PolynomialRing(QQ,[(char+'%s') %k for k in range(1,n+1)],order='deglex')\n",
    "    Pall=[]\n",
    "    GBI=I.groebner_basis()\n",
    "  \n",
    "\n",
    "    #Setting up all the vectors\n",
    "    P=GBI\n",
    "    for x in Rold.gens():\n",
    "        xToP=[]\n",
    "        for g in P:\n",
    "            v=g.degree()\n",
    "            for k in range(t-v+1):\n",
    "                xToP.append(g*x^k)\n",
    "        P=xToP\n",
    "    A=Sequence(ideal(P)).coefficient_matrix()\n",
    "    M=Matroid(A[0].right_kernel().basis_matrix()).circuits()\n",
    "    X=[]\n",
    "    for c in M:\n",
    "        if len(c)==2:\n",
    "            print(c)\n",
    "            s=list(c)\n",
    "            m=R(A[1][s[0]])\n",
    "            n=R(A[1][s[1]])\n",
    "            if m>n:\n",
    "                m,n=n,m\n",
    "            X.append(n-m*(n.reduce(I)/m.reduce(I)))\n",
    "    BinI=ideal(R,ideal(R,X).groebner_basis()).groebner_basis()\n",
    "    return BinI"
   ]
  },
  {
   "cell_type": "code",
   "execution_count": 275,
   "metadata": {},
   "outputs": [
    {
     "data": {
      "text/plain": [
       "[x^12 - 1]"
      ]
     },
     "execution_count": 275,
     "metadata": {},
     "output_type": "execute_result"
    }
   ],
   "source": [
    "R.<x>=QQ[]\n",
    "I=ideal(R,[x^4+x^3+2*x^2+x+1])\n",
    "BinO(I,12)"
   ]
  },
  {
   "cell_type": "code",
   "execution_count": 274,
   "metadata": {},
   "outputs": [
    {
     "data": {
      "text/plain": [
       "x^6*y^3 - x^4*y^2 + x^2*y"
      ]
     },
     "execution_count": 274,
     "metadata": {},
     "output_type": "execute_result"
    }
   ],
   "source": [
    "(x^6*y^3-x^4*y^2+x^2*y)"
   ]
  },
  {
   "cell_type": "code",
   "execution_count": null,
   "metadata": {},
   "outputs": [],
   "source": []
  },
  {
   "cell_type": "code",
   "execution_count": 121,
   "metadata": {
    "scrolled": true
   },
   "outputs": [
    {
     "name": "stdout",
     "output_type": "stream",
     "text": [
      "[x2^2 - 2*x2 + 1, x1 + 1/6*x2 - 7/6]\n",
      "x1\n",
      "x2\n",
      "[1, x2]\n"
     ]
    }
   ],
   "source": [
    "R.<x1,x2,x3> = QQ[]\n",
    "I=ideal(R,[(x1-x3)^2,7*x1-x2-6*x3])\n",
    "#J=getJ(I,[[1,-1,0],[1,0,-1]])\n",
    "Ma,Mb=Binn(I,[[1,0,-1],[1,-1,0]])"
   ]
  },
  {
   "cell_type": "code",
   "execution_count": 278,
   "metadata": {},
   "outputs": [
    {
     "ename": "TypeError",
     "evalue": "'sage.rings.integer.Integer' object is not subscriptable",
     "output_type": "error",
     "traceback": [
      "\u001b[0;31m---------------------------------------------------------------------------\u001b[0m",
      "\u001b[0;31mTypeError\u001b[0m                                 Traceback (most recent call last)",
      "\u001b[0;32m<ipython-input-278-cdc5bf88186a>\u001b[0m in \u001b[0;36m<module>\u001b[0;34m\u001b[0m\n\u001b[1;32m      1\u001b[0m \u001b[0mR\u001b[0m \u001b[0;34m=\u001b[0m \u001b[0mQQ\u001b[0m\u001b[0;34m[\u001b[0m\u001b[0;34m'x'\u001b[0m\u001b[0;34m]\u001b[0m\u001b[0;34m;\u001b[0m \u001b[0;34m(\u001b[0m\u001b[0mx\u001b[0m\u001b[0;34m,\u001b[0m\u001b[0;34m)\u001b[0m \u001b[0;34m=\u001b[0m \u001b[0mR\u001b[0m\u001b[0;34m.\u001b[0m\u001b[0m_first_ngens\u001b[0m\u001b[0;34m(\u001b[0m\u001b[0;36m1\u001b[0m\u001b[0;34m)\u001b[0m\u001b[0;34m\u001b[0m\u001b[0;34m\u001b[0m\u001b[0m\n\u001b[1;32m      2\u001b[0m \u001b[0mI\u001b[0m\u001b[0;34m=\u001b[0m\u001b[0mideal\u001b[0m\u001b[0;34m(\u001b[0m\u001b[0mR\u001b[0m\u001b[0;34m,\u001b[0m\u001b[0;34m[\u001b[0m\u001b[0mx\u001b[0m\u001b[0;34m**\u001b[0m\u001b[0mInteger\u001b[0m\u001b[0;34m(\u001b[0m\u001b[0;36m4\u001b[0m\u001b[0;34m)\u001b[0m\u001b[0;34m+\u001b[0m\u001b[0mx\u001b[0m\u001b[0;34m**\u001b[0m\u001b[0mInteger\u001b[0m\u001b[0;34m(\u001b[0m\u001b[0;36m3\u001b[0m\u001b[0;34m)\u001b[0m\u001b[0;34m+\u001b[0m\u001b[0mInteger\u001b[0m\u001b[0;34m(\u001b[0m\u001b[0;36m2\u001b[0m\u001b[0;34m)\u001b[0m\u001b[0;34m*\u001b[0m\u001b[0mx\u001b[0m\u001b[0;34m**\u001b[0m\u001b[0mInteger\u001b[0m\u001b[0;34m(\u001b[0m\u001b[0;36m2\u001b[0m\u001b[0;34m)\u001b[0m\u001b[0;34m+\u001b[0m\u001b[0mx\u001b[0m\u001b[0;34m+\u001b[0m\u001b[0mInteger\u001b[0m\u001b[0;34m(\u001b[0m\u001b[0;36m1\u001b[0m\u001b[0;34m)\u001b[0m\u001b[0;34m]\u001b[0m\u001b[0;34m)\u001b[0m\u001b[0;34m\u001b[0m\u001b[0;34m\u001b[0m\u001b[0m\n\u001b[0;32m----> 3\u001b[0;31m \u001b[0mBinn\u001b[0m\u001b[0;34m(\u001b[0m\u001b[0mI\u001b[0m\u001b[0;34m,\u001b[0m\u001b[0;34m[\u001b[0m\u001b[0mInteger\u001b[0m\u001b[0;34m(\u001b[0m\u001b[0;36m1\u001b[0m\u001b[0;34m)\u001b[0m\u001b[0;34m]\u001b[0m\u001b[0;34m)\u001b[0m\u001b[0;34m\u001b[0m\u001b[0;34m\u001b[0m\u001b[0m\n\u001b[0m",
      "\u001b[0;32m<ipython-input-119-8a33958f6610>\u001b[0m in \u001b[0;36mBinn\u001b[0;34m(I, V)\u001b[0m\n\u001b[1;32m      2\u001b[0m \u001b[0;31m#Output: |T(I)^l| matrices M\u001b[0m\u001b[0;34m\u001b[0m\u001b[0;34m\u001b[0m\u001b[0;34m\u001b[0m\u001b[0m\n\u001b[1;32m      3\u001b[0m \u001b[0;32mdef\u001b[0m \u001b[0mBinn\u001b[0m\u001b[0;34m(\u001b[0m\u001b[0mI\u001b[0m\u001b[0;34m,\u001b[0m\u001b[0mV\u001b[0m\u001b[0;34m)\u001b[0m\u001b[0;34m:\u001b[0m\u001b[0;34m\u001b[0m\u001b[0;34m\u001b[0m\u001b[0m\n\u001b[0;32m----> 4\u001b[0;31m     \u001b[0mJ\u001b[0m\u001b[0;34m=\u001b[0m\u001b[0mgetJ\u001b[0m\u001b[0;34m(\u001b[0m\u001b[0mI\u001b[0m\u001b[0;34m,\u001b[0m\u001b[0mV\u001b[0m\u001b[0;34m)\u001b[0m\u001b[0;34m\u001b[0m\u001b[0;34m\u001b[0m\u001b[0m\n\u001b[0m\u001b[1;32m      5\u001b[0m     \u001b[0mprint\u001b[0m\u001b[0;34m(\u001b[0m\u001b[0mJ\u001b[0m\u001b[0;34m)\u001b[0m\u001b[0;34m\u001b[0m\u001b[0;34m\u001b[0m\u001b[0m\n\u001b[1;32m      6\u001b[0m     \u001b[0mGBJ\u001b[0m\u001b[0;34m=\u001b[0m\u001b[0mJ\u001b[0m\u001b[0;34m.\u001b[0m\u001b[0mgroebner_basis\u001b[0m\u001b[0;34m(\u001b[0m\u001b[0;34m)\u001b[0m\u001b[0;34m\u001b[0m\u001b[0;34m\u001b[0m\u001b[0m\n",
      "\u001b[0;32m<ipython-input-194-e4759f220566>\u001b[0m in \u001b[0;36mgetJ\u001b[0;34m(I, V)\u001b[0m\n\u001b[1;32m     16\u001b[0m         \u001b[0mmon\u001b[0m\u001b[0;34m=\u001b[0m\u001b[0mL\u001b[0m\u001b[0;34m(\u001b[0m\u001b[0mInteger\u001b[0m\u001b[0;34m(\u001b[0m\u001b[0;36m1\u001b[0m\u001b[0;34m)\u001b[0m\u001b[0;34m)\u001b[0m\u001b[0;34m\u001b[0m\u001b[0;34m\u001b[0m\u001b[0m\n\u001b[1;32m     17\u001b[0m         \u001b[0;32mfor\u001b[0m \u001b[0me\u001b[0m \u001b[0;32min\u001b[0m \u001b[0mrange\u001b[0m\u001b[0;34m(\u001b[0m\u001b[0mn\u001b[0m\u001b[0;34m)\u001b[0m\u001b[0;34m:\u001b[0m\u001b[0;34m\u001b[0m\u001b[0;34m\u001b[0m\u001b[0m\n\u001b[0;32m---> 18\u001b[0;31m             \u001b[0mmon\u001b[0m\u001b[0;34m*=\u001b[0m\u001b[0;34m(\u001b[0m\u001b[0mL\u001b[0m\u001b[0;34m(\u001b[0m\u001b[0mchar\u001b[0m\u001b[0;34m+\u001b[0m\u001b[0mstr\u001b[0m\u001b[0;34m(\u001b[0m\u001b[0me\u001b[0m\u001b[0;34m+\u001b[0m\u001b[0mInteger\u001b[0m\u001b[0;34m(\u001b[0m\u001b[0;36m1\u001b[0m\u001b[0;34m)\u001b[0m\u001b[0;34m)\u001b[0m\u001b[0;34m)\u001b[0m\u001b[0;34m**\u001b[0m\u001b[0;34m(\u001b[0m\u001b[0mV\u001b[0m\u001b[0;34m[\u001b[0m\u001b[0mv\u001b[0m\u001b[0;34m]\u001b[0m\u001b[0;34m[\u001b[0m\u001b[0me\u001b[0m\u001b[0;34m]\u001b[0m\u001b[0;34m)\u001b[0m\u001b[0;34m)\u001b[0m\u001b[0;34m\u001b[0m\u001b[0;34m\u001b[0m\u001b[0m\n\u001b[0m\u001b[1;32m     19\u001b[0m         \u001b[0mMain\u001b[0m\u001b[0;34m+=\u001b[0m\u001b[0;34m[\u001b[0m\u001b[0mmon\u001b[0m\u001b[0;34m-\u001b[0m\u001b[0mL\u001b[0m\u001b[0;34m(\u001b[0m\u001b[0mchar\u001b[0m\u001b[0;34m+\u001b[0m\u001b[0mstr\u001b[0m\u001b[0;34m(\u001b[0m\u001b[0mv\u001b[0m\u001b[0;34m+\u001b[0m\u001b[0mInteger\u001b[0m\u001b[0;34m(\u001b[0m\u001b[0;36m1\u001b[0m\u001b[0;34m)\u001b[0m\u001b[0;34m+\u001b[0m\u001b[0mn\u001b[0m\u001b[0;34m)\u001b[0m\u001b[0;34m)\u001b[0m\u001b[0;34m]\u001b[0m\u001b[0;34m\u001b[0m\u001b[0;34m\u001b[0m\u001b[0m\n\u001b[1;32m     20\u001b[0m         \u001b[0msub\u001b[0m\u001b[0;34m.\u001b[0m\u001b[0mappend\u001b[0m\u001b[0;34m(\u001b[0m\u001b[0mmon\u001b[0m\u001b[0;34m)\u001b[0m\u001b[0;34m\u001b[0m\u001b[0;34m\u001b[0m\u001b[0m\n",
      "\u001b[0;31mTypeError\u001b[0m: 'sage.rings.integer.Integer' object is not subscriptable"
     ]
    }
   ],
   "source": [
    "R.<x>=QQ[]\n",
    "I=ideal(R,[x^4+x^3+2*x^2+x+1])\n",
    "mat(I,[1])"
   ]
  },
  {
   "cell_type": "code",
   "execution_count": null,
   "metadata": {},
   "outputs": [],
   "source": []
  },
  {
   "cell_type": "code",
   "execution_count": null,
   "metadata": {},
   "outputs": [],
   "source": []
  },
  {
   "cell_type": "code",
   "execution_count": 269,
   "metadata": {},
   "outputs": [
    {
     "ename": "IndexError",
     "evalue": "the number of names must equal the number of generators",
     "output_type": "error",
     "traceback": [
      "\u001b[0;31m---------------------------------------------------------------------------\u001b[0m",
      "\u001b[0;31mIndexError\u001b[0m                                Traceback (most recent call last)",
      "\u001b[0;32m<ipython-input-269-4b35d28dbb85>\u001b[0m in \u001b[0;36m<module>\u001b[0;34m\u001b[0m\n\u001b[0;32m----> 1\u001b[0;31m \u001b[0mR\u001b[0m \u001b[0;34m=\u001b[0m \u001b[0mPolynomialRing\u001b[0m\u001b[0;34m(\u001b[0m\u001b[0mQQ\u001b[0m\u001b[0;34m,\u001b[0m\u001b[0mInteger\u001b[0m\u001b[0;34m(\u001b[0m\u001b[0;36m3\u001b[0m\u001b[0;34m)\u001b[0m\u001b[0;34m,\u001b[0m\u001b[0morder\u001b[0m\u001b[0;34m=\u001b[0m\u001b[0;34m'deglex'\u001b[0m\u001b[0;34m,\u001b[0m \u001b[0mnames\u001b[0m\u001b[0;34m=\u001b[0m\u001b[0;34m(\u001b[0m\u001b[0;34m'x'\u001b[0m\u001b[0;34m,\u001b[0m \u001b[0;34m'y'\u001b[0m\u001b[0;34m,\u001b[0m\u001b[0;34m)\u001b[0m\u001b[0;34m)\u001b[0m\u001b[0;34m;\u001b[0m \u001b[0;34m(\u001b[0m\u001b[0mx\u001b[0m\u001b[0;34m,\u001b[0m \u001b[0my\u001b[0m\u001b[0;34m,\u001b[0m\u001b[0;34m)\u001b[0m \u001b[0;34m=\u001b[0m \u001b[0mR\u001b[0m\u001b[0;34m.\u001b[0m\u001b[0m_first_ngens\u001b[0m\u001b[0;34m(\u001b[0m\u001b[0;36m2\u001b[0m\u001b[0;34m)\u001b[0m\u001b[0;34m\u001b[0m\u001b[0;34m\u001b[0m\u001b[0m\n\u001b[0m\u001b[1;32m      2\u001b[0m \u001b[0mf\u001b[0m\u001b[0;34m=\u001b[0m\u001b[0mR\u001b[0m\u001b[0;34m(\u001b[0m\u001b[0mx\u001b[0m\u001b[0;34m**\u001b[0m\u001b[0mInteger\u001b[0m\u001b[0;34m(\u001b[0m\u001b[0;36m8\u001b[0m\u001b[0;34m)\u001b[0m\u001b[0;34m+\u001b[0m\u001b[0mx\u001b[0m\u001b[0;34m**\u001b[0m\u001b[0mInteger\u001b[0m\u001b[0;34m(\u001b[0m\u001b[0;36m6\u001b[0m\u001b[0;34m)\u001b[0m\u001b[0;34m*\u001b[0m\u001b[0my\u001b[0m\u001b[0;34m+\u001b[0m\u001b[0mInteger\u001b[0m\u001b[0;34m(\u001b[0m\u001b[0;36m2\u001b[0m\u001b[0;34m)\u001b[0m\u001b[0;34m*\u001b[0m\u001b[0mx\u001b[0m\u001b[0;34m**\u001b[0m\u001b[0mInteger\u001b[0m\u001b[0;34m(\u001b[0m\u001b[0;36m4\u001b[0m\u001b[0;34m)\u001b[0m\u001b[0;34m*\u001b[0m\u001b[0my\u001b[0m\u001b[0;34m**\u001b[0m\u001b[0mInteger\u001b[0m\u001b[0;34m(\u001b[0m\u001b[0;36m2\u001b[0m\u001b[0;34m)\u001b[0m\u001b[0;34m+\u001b[0m\u001b[0mx\u001b[0m\u001b[0;34m**\u001b[0m\u001b[0mInteger\u001b[0m\u001b[0;34m(\u001b[0m\u001b[0;36m2\u001b[0m\u001b[0;34m)\u001b[0m\u001b[0;34m*\u001b[0m\u001b[0my\u001b[0m\u001b[0;34m**\u001b[0m\u001b[0mInteger\u001b[0m\u001b[0;34m(\u001b[0m\u001b[0;36m3\u001b[0m\u001b[0;34m)\u001b[0m\u001b[0;34m+\u001b[0m\u001b[0my\u001b[0m\u001b[0;34m**\u001b[0m\u001b[0mInteger\u001b[0m\u001b[0;34m(\u001b[0m\u001b[0;36m4\u001b[0m\u001b[0;34m)\u001b[0m\u001b[0;34m)\u001b[0m\u001b[0;34m\u001b[0m\u001b[0;34m\u001b[0m\u001b[0m\n\u001b[1;32m      3\u001b[0m \u001b[0mP\u001b[0m \u001b[0;34m=\u001b[0m \u001b[0mQQ\u001b[0m\u001b[0;34m[\u001b[0m\u001b[0;34m'x'\u001b[0m\u001b[0;34m]\u001b[0m\u001b[0;34m;\u001b[0m \u001b[0;34m(\u001b[0m\u001b[0mx\u001b[0m\u001b[0;34m,\u001b[0m\u001b[0;34m)\u001b[0m \u001b[0;34m=\u001b[0m \u001b[0mP\u001b[0m\u001b[0;34m.\u001b[0m\u001b[0m_first_ngens\u001b[0m\u001b[0;34m(\u001b[0m\u001b[0;36m1\u001b[0m\u001b[0;34m)\u001b[0m\u001b[0;34m\u001b[0m\u001b[0;34m\u001b[0m\u001b[0m\n\u001b[1;32m      4\u001b[0m \u001b[0mg\u001b[0m\u001b[0;34m=\u001b[0m\u001b[0mP\u001b[0m\u001b[0;34m(\u001b[0m\u001b[0mx\u001b[0m\u001b[0;34m**\u001b[0m\u001b[0mInteger\u001b[0m\u001b[0;34m(\u001b[0m\u001b[0;36m4\u001b[0m\u001b[0;34m)\u001b[0m\u001b[0;34m+\u001b[0m\u001b[0mx\u001b[0m\u001b[0;34m**\u001b[0m\u001b[0mInteger\u001b[0m\u001b[0;34m(\u001b[0m\u001b[0;36m3\u001b[0m\u001b[0;34m)\u001b[0m\u001b[0;34m+\u001b[0m\u001b[0mInteger\u001b[0m\u001b[0;34m(\u001b[0m\u001b[0;36m2\u001b[0m\u001b[0;34m)\u001b[0m\u001b[0;34m*\u001b[0m\u001b[0mx\u001b[0m\u001b[0;34m**\u001b[0m\u001b[0mInteger\u001b[0m\u001b[0;34m(\u001b[0m\u001b[0;36m2\u001b[0m\u001b[0;34m)\u001b[0m\u001b[0;34m+\u001b[0m\u001b[0mx\u001b[0m\u001b[0;34m+\u001b[0m\u001b[0mInteger\u001b[0m\u001b[0;34m(\u001b[0m\u001b[0;36m1\u001b[0m\u001b[0;34m)\u001b[0m\u001b[0;34m)\u001b[0m\u001b[0;34m\u001b[0m\u001b[0;34m\u001b[0m\u001b[0m\n\u001b[1;32m      5\u001b[0m \u001b[0mBinO\u001b[0m\u001b[0;34m(\u001b[0m\u001b[0mideal\u001b[0m\u001b[0;34m(\u001b[0m\u001b[0mP\u001b[0m\u001b[0;34m,\u001b[0m\u001b[0;34m[\u001b[0m\u001b[0mg\u001b[0m\u001b[0;34m]\u001b[0m\u001b[0;34m)\u001b[0m\u001b[0;34m,\u001b[0m\u001b[0mInteger\u001b[0m\u001b[0;34m(\u001b[0m\u001b[0;36m10\u001b[0m\u001b[0;34m)\u001b[0m\u001b[0;34m)\u001b[0m\u001b[0;34m\u001b[0m\u001b[0;34m\u001b[0m\u001b[0m\n",
      "\u001b[0;32m/opt/sagemath-9.3/local/lib/python3.7/site-packages/sage/rings/polynomial/polynomial_ring_constructor.py\u001b[0m in \u001b[0;36mPolynomialRing\u001b[0;34m(base_ring, *args, **kwds)\u001b[0m\n\u001b[1;32m    630\u001b[0m             \u001b[0;32mraise\u001b[0m \u001b[0mTypeError\u001b[0m\u001b[0;34m(\u001b[0m\u001b[0;34m\"you must specify the names of the variables\"\u001b[0m\u001b[0;34m)\u001b[0m\u001b[0;34m\u001b[0m\u001b[0;34m\u001b[0m\u001b[0m\n\u001b[1;32m    631\u001b[0m \u001b[0;34m\u001b[0m\u001b[0m\n\u001b[0;32m--> 632\u001b[0;31m     \u001b[0mnames\u001b[0m \u001b[0;34m=\u001b[0m \u001b[0mnormalize_names\u001b[0m\u001b[0;34m(\u001b[0m\u001b[0mn\u001b[0m\u001b[0;34m,\u001b[0m \u001b[0mnames\u001b[0m\u001b[0;34m)\u001b[0m\u001b[0;34m\u001b[0m\u001b[0;34m\u001b[0m\u001b[0m\n\u001b[0m\u001b[1;32m    633\u001b[0m \u001b[0;34m\u001b[0m\u001b[0m\n\u001b[1;32m    634\u001b[0m     \u001b[0;31m# At this point, we have only handled the \"names\" keyword if it was\u001b[0m\u001b[0;34m\u001b[0m\u001b[0;34m\u001b[0m\u001b[0;34m\u001b[0m\u001b[0m\n",
      "\u001b[0;32m/opt/sagemath-9.3/local/lib/python3.7/site-packages/sage/structure/category_object.pyx\u001b[0m in \u001b[0;36msage.structure.category_object.normalize_names (build/cythonized/sage/structure/category_object.c:8487)\u001b[0;34m()\u001b[0m\n\u001b[1;32m    898\u001b[0m         \u001b[0;32mreturn\u001b[0m \u001b[0mdir_with_other_class\u001b[0m\u001b[0;34m(\u001b[0m\u001b[0mself\u001b[0m\u001b[0;34m,\u001b[0m \u001b[0mself\u001b[0m\u001b[0;34m.\u001b[0m\u001b[0mcategory\u001b[0m\u001b[0;34m(\u001b[0m\u001b[0;34m)\u001b[0m\u001b[0;34m.\u001b[0m\u001b[0mparent_class\u001b[0m\u001b[0;34m)\u001b[0m\u001b[0;34m\u001b[0m\u001b[0;34m\u001b[0m\u001b[0m\n\u001b[1;32m    899\u001b[0m \u001b[0;34m\u001b[0m\u001b[0m\n\u001b[0;32m--> 900\u001b[0;31m \u001b[0mcpdef\u001b[0m \u001b[0mnormalize_names\u001b[0m\u001b[0;34m(\u001b[0m\u001b[0mPy_ssize_t\u001b[0m \u001b[0mngens\u001b[0m\u001b[0;34m,\u001b[0m \u001b[0mnames\u001b[0m\u001b[0;34m)\u001b[0m\u001b[0;34m:\u001b[0m\u001b[0;34m\u001b[0m\u001b[0;34m\u001b[0m\u001b[0m\n\u001b[0m\u001b[1;32m    901\u001b[0m     r\"\"\"\n\u001b[1;32m    902\u001b[0m     \u001b[0mReturn\u001b[0m \u001b[0ma\u001b[0m \u001b[0mtuple\u001b[0m \u001b[0mof\u001b[0m \u001b[0mstrings\u001b[0m \u001b[0mof\u001b[0m \u001b[0mvariable\u001b[0m \u001b[0mnames\u001b[0m \u001b[0mof\u001b[0m \u001b[0mlength\u001b[0m \u001b[0mngens\u001b[0m \u001b[0mgiven\u001b[0m\u001b[0;34m\u001b[0m\u001b[0;34m\u001b[0m\u001b[0m\n",
      "\u001b[0;32m/opt/sagemath-9.3/local/lib/python3.7/site-packages/sage/structure/category_object.pyx\u001b[0m in \u001b[0;36msage.structure.category_object.normalize_names (build/cythonized/sage/structure/category_object.c:8361)\u001b[0;34m()\u001b[0m\n\u001b[1;32m   1018\u001b[0m     \u001b[0mcertify_names\u001b[0m\u001b[0;34m(\u001b[0m\u001b[0mnames\u001b[0m\u001b[0;34m)\u001b[0m\u001b[0;34m\u001b[0m\u001b[0;34m\u001b[0m\u001b[0m\n\u001b[1;32m   1019\u001b[0m     \u001b[0;32mif\u001b[0m \u001b[0mngens\u001b[0m \u001b[0;34m>=\u001b[0m \u001b[0;36m0\u001b[0m \u001b[0;32mand\u001b[0m \u001b[0mlen\u001b[0m\u001b[0;34m(\u001b[0m\u001b[0mnames\u001b[0m\u001b[0;34m)\u001b[0m \u001b[0;34m!=\u001b[0m \u001b[0mngens\u001b[0m\u001b[0;34m:\u001b[0m\u001b[0;34m\u001b[0m\u001b[0;34m\u001b[0m\u001b[0m\n\u001b[0;32m-> 1020\u001b[0;31m        \u001b[0;32mraise\u001b[0m \u001b[0mIndexError\u001b[0m\u001b[0;34m(\u001b[0m\u001b[0;34m\"the number of names must equal the number of generators\"\u001b[0m\u001b[0;34m)\u001b[0m\u001b[0;34m\u001b[0m\u001b[0;34m\u001b[0m\u001b[0m\n\u001b[0m\u001b[1;32m   1021\u001b[0m     \u001b[0;32mreturn\u001b[0m \u001b[0mtuple\u001b[0m\u001b[0;34m(\u001b[0m\u001b[0mnames\u001b[0m\u001b[0;34m)\u001b[0m\u001b[0;34m\u001b[0m\u001b[0;34m\u001b[0m\u001b[0m\n\u001b[1;32m   1022\u001b[0m \u001b[0;34m\u001b[0m\u001b[0m\n",
      "\u001b[0;31mIndexError\u001b[0m: the number of names must equal the number of generators"
     ]
    }
   ],
   "source": [
    "R.<x,y>=PolynomialRing(QQ,3,order='deglex')\n",
    "f=R(x^8+x^6*y+2*x^4*y^2+x^2*y^3+y^4)\n",
    "P.<x>=QQ[]\n",
    "g=P(x^4+x^3+2*x^2+x+1)\n",
    "BinO(ideal(P,[g]),10)"
   ]
  },
  {
   "cell_type": "code",
   "execution_count": 255,
   "metadata": {},
   "outputs": [
    {
     "data": {
      "text/plain": [
       "x^4 - z"
      ]
     },
     "execution_count": 255,
     "metadata": {},
     "output_type": "execute_result"
    }
   ],
   "source": [
    "U=[x^2*y^2*z - y^5 + x^2*z^2 - y^3*z,\n",
    " x^2*y^3 + x^2*y*z + y^4 + 2*y^2*z + z^2,\n",
    " y^6 + 2*y^4*z + 2*y^2*z^2 + z^3,\n",
    " -x^2*y^4 - 2*y^5 + x^2*z^2 - 3*y^3*z - y*z^2,\n",
    " x^8 + x^6*y + 2*x^4*y^2 + x^2*y^3 + y^4]\n",
    "\n",
    "a=R(x^2*y^2*z - y^5 + x^2*z^2 - y^3*z)\n",
    "b=R(y^6 + 2*y^4*z + 2*y^2*z^2 + z^3)\n",
    "c=R(x^2*y^3 + x^2*y*z + y^4 + 2*y^2*z + z^2,)\n",
    "J=ideal(R,U)\n",
    "g.reduce(J)"
   ]
  },
  {
   "cell_type": "code",
   "execution_count": null,
   "metadata": {},
   "outputs": [],
   "source": []
  },
  {
   "cell_type": "code",
   "execution_count": 214,
   "metadata": {},
   "outputs": [
    {
     "data": {
      "text/plain": [
       "(x^2 + 1) * (x^2 + x + 1)"
      ]
     },
     "execution_count": 214,
     "metadata": {},
     "output_type": "execute_result"
    }
   ],
   "source": [
    "A.charpoly().factor()"
   ]
  },
  {
   "cell_type": "code",
   "execution_count": 168,
   "metadata": {},
   "outputs": [
    {
     "data": {
      "text/plain": [
       "z^12 + 3*y*z^9 + 3*y^2*z^6 + y^3*z^3"
      ]
     },
     "execution_count": 168,
     "metadata": {},
     "output_type": "execute_result"
    }
   ],
   "source": [
    "(z^4+y*z)^3"
   ]
  },
  {
   "cell_type": "code",
   "execution_count": 173,
   "metadata": {},
   "outputs": [
    {
     "data": {
      "text/plain": [
       "[(3, 0), (1, 0), (0, 0)]"
      ]
     },
     "execution_count": 173,
     "metadata": {},
     "output_type": "execute_result"
    }
   ],
   "source": [
    "R.<x,y>=QQ[]\n",
    "R(x^3-2*x+1).exponents()"
   ]
  },
  {
   "cell_type": "code",
   "execution_count": null,
   "metadata": {},
   "outputs": [],
   "source": []
  },
  {
   "cell_type": "code",
   "execution_count": 113,
   "metadata": {},
   "outputs": [
    {
     "name": "stdout",
     "output_type": "stream",
     "text": [
      "[x4*x5*x6 - 1, x2*x3*x5*x6 + x1*x3*x4*x6 + x1*x2*x4*x5, x1*x3*x4^2*x6 + x1*x2*x4^2*x5 + x2*x3, x2^2*x3*x6 + x1*x2^2*x4, x1^2*x3*x6 + x1^2*x2*x5, x1*x2*x4^2*x5^2 + x2*x3*x5 + x1*x3*x4, x1^2*x2*x4*x5^2 + x1^2*x3, x1*x2^2*x4^2*x5 + x2^2*x3, x2*x3^2*x5 + x1*x3^2*x4, x2^2*x3^2, x1^2*x3^2, x1*x2*x3, x1^2*x2^2]\n",
      "[x1^2*x2^2, x1^2*x3^2, x1*x2*x3, x2^2*x3^2]\n"
     ]
    },
    {
     "data": {
      "text/plain": [
       "[[x + y, y^2], [x^2, x + y]]"
      ]
     },
     "execution_count": 113,
     "metadata": {},
     "output_type": "execute_result"
    }
   ],
   "source": [
    "R.<x1,x2,x3>=QQ[]\n",
    "I=ideal(R,[x1*x2*x3,x1*x2+x2*x3+x3*x1])\n",
    "print(Mon(I))\n",
    "R.<t,s,x,y>=PolynomialRing(QQ,4,order='lex')\n",
    "J=ideal(R,[x^2*t^2,x*t+y*s,y^2*s^2,s*t-1])\n",
    "J.groebner_basis()\n",
    "S.<x,y>=PolynomialRing(QQ,2,order='lex')\n",
    "I=ideal(S,[x+y,y^2])\n",
    "I.groebner_fan().reduced_groebner_bases()"
   ]
  },
  {
   "cell_type": "code",
   "execution_count": 89,
   "metadata": {},
   "outputs": [],
   "source": [
    "def ugb(I):\n",
    "    R=I.ring()\n",
    "    Sol=[]\n",
    "    V=I.groebner_fan().reduced_groebner_bases()\n",
    "    for v in V:\n",
    "        for g in v:\n",
    "            add=True\n",
    "            for f in Sol:\n",
    "                if (R(g)/R(f)) in QQ:\n",
    "                    add=False\n",
    "            if(add):\n",
    "                Sol.append(g)\n",
    "        Sol.sort()\n",
    "    return Sol"
   ]
  },
  {
   "cell_type": "code",
   "execution_count": 198,
   "metadata": {},
   "outputs": [],
   "source": [
    "#Input: I and T(I)^l\n",
    "#Output: |T(I)^l| matrices M \n",
    "def mat(I,V):\n",
    "    J=getJ(I,V)\n",
    "    print(J)\n",
    "    GBJ=J.groebner_basis()\n",
    "    d=len(V)\n",
    "    char=str(I.ring().gens()[0])[0]\n",
    "     \n",
    "    R=PolynomialRing(QQ,[(char+'%s') %k for k in range(1,d+1)],order='lex')\n",
    "\n",
    "    #Basis of R/(J)\n",
    "    Basis=[R(1)]; \n",
    "    HeadJ=[]\n",
    "\n",
    "    for g in GBJ:\n",
    "        HeadJ.append(g.lm())\n",
    "        \n",
    "    for x in R.gens():\n",
    "        for b in Basis:\n",
    "            if not (b*x).reduce(HeadJ)==0:\n",
    "                Basis.append(b*x)\n",
    "    print(Basis)\n",
    "    #makeMatrix\n",
    "    bas=len(Basis)\n",
    "    M=[]\n",
    "    for x in R.gens():\n",
    "        mset=[]\n",
    "        for b in Basis:\n",
    "            f=(b*x).reduce(J)\n",
    "            dic=f.dict()\n",
    "            row=bas*[0]\n",
    "            for e in f.exponents():\n",
    "                row[Basis.index(R({e:1}))]=dic[e]\n",
    "            mset.append(row)\n",
    "        M.append(matrix(QQ,mset))\n",
    "    return M"
   ]
  },
  {
   "cell_type": "code",
   "execution_count": 194,
   "metadata": {},
   "outputs": [],
   "source": [
    "def getJ(I,V):\n",
    "    n=I.ring().ngens()\n",
    "    d=len(V)\n",
    "    char=str(I.ring().gens()[0])[0]\n",
    "    Main=I.groebner_basis()\n",
    "    for k in range(1,n+d+1):\n",
    "        var(char+str(k))\n",
    "    L=LaurentPolynomialRing(QQ,[(char+'%s') %k for k in range(1,n+d+1)],order='lex') \n",
    "    Rbig=PolynomialRing(QQ,[(char+'%s') %k for k in range(1,n+d+1)],order='lex') \n",
    "    R=   PolynomialRing(QQ,[(char+'%s') %k for k in range(n+1,n+d+1)],order='deglex') \n",
    "    RofJ=PolynomialRing(QQ,[(char+'%s') %k for k in range(1,d+1)],order='deglex') \n",
    "    \n",
    "    #go to R[A]\n",
    "    sub=[]\n",
    "    for v in range(d):\n",
    "        mon=L(1)\n",
    "        for e in range(n):\n",
    "            mon*=(L(char+str(e+1))^(V[v][e]))\n",
    "        Main+=[mon-L(char+str(v+1+n))]\n",
    "        sub.append(mon)\n",
    "    GB=ideal(L,Main).groebner_basis()\n",
    "    \n",
    "    #Find J\n",
    "    genJhigh=[]\n",
    "    for g in GB:\n",
    "        if Rbig(g).lm()< L(char+str(n)):\n",
    "            genJhigh.append(Rbig(g))\n",
    "    genJ=[]\n",
    "    for f in genJhigh:\n",
    "        for k in range(1,d+1):\n",
    "            f=f.subs({Rbig(char+str(n+k)):Rbig(char+str(k))})\n",
    "        genJ.append(f)\n",
    "    J=ideal(RofJ,genJ)\n",
    "    return J.groebner_basis()"
   ]
  },
  {
   "cell_type": "code",
   "execution_count": 40,
   "metadata": {},
   "outputs": [
    {
     "name": "stdout",
     "output_type": "stream",
     "text": [
      "[y4 + 16*y5 - 17, y5^2 - 2*y5 + 1]\n"
     ]
    },
    {
     "data": {
      "text/plain": [
       "[\n",
       "[ 17  16]  [ 0 -1]\n",
       "[-16 -15], [ 1  2]\n",
       "]"
      ]
     },
     "execution_count": 40,
     "metadata": {},
     "output_type": "execute_result"
    }
   ],
   "source": [
    "R.<y1,y2,y3>=QQ[]\n",
    "n=17\n",
    "I=ideal(R,[(y1-y3)^2,n*y1-y2-(n-1)*y3])\n",
    "Bin(I,[[1,-1,0],[1,0,-1]])"
   ]
  },
  {
   "cell_type": "code",
   "execution_count": 123,
   "metadata": {},
   "outputs": [],
   "source": [
    "    \n",
    "def exp(N):\n",
    "    n=len(N[0])\n",
    "    if not (N^n).is_zero():\n",
    "        raise ValueError('N non nilpotent')\n",
    "    B=1\n",
    "    for i in range(1,n+2):\n",
    "        B=B+(1/(gamma(i+1)))*(N^i)\n",
    "    return B\n",
    "def log(U):\n",
    "    n=len(U[0])\n",
    "    if( not( (U-1)^n).is_zero()):\n",
    "        raise ValueError('U non unipotent')\n",
    "    B=0\n",
    "    for i in range(1,n+2):\n",
    "        B=B-(1/i)*((1-U)^i)\n",
    "    return B"
   ]
  },
  {
   "cell_type": "code",
   "execution_count": 19,
   "metadata": {},
   "outputs": [],
   "source": [
    "def Unip(U):\n",
    "    Mset=[]\n",
    "    for u in U:\n",
    "        Mset.append(log(u).list())\n",
    "    return matrix(QQ,Mset).kernel().basis()"
   ]
  },
  {
   "cell_type": "code",
   "execution_count": null,
   "metadata": {},
   "outputs": [],
   "source": []
  },
  {
   "cell_type": "code",
   "execution_count": 20,
   "metadata": {},
   "outputs": [],
   "source": [
    "#Input: K M in K\n",
    "#Output: L1 and M' diagon\n",
    "def split1(M,K):\n",
    "    Diago=[]\n",
    "    Mbig=[]\n",
    "    for m in M:\n",
    "        J=m.jordan_form(K)\n",
    "        C = m.is_similar(J, transformation=True)[1]\n",
    "        Cinv=C^(-1)\n",
    "        #M=Cinv*J*(C)\n",
    "        D=m.eigenmatrix_right()[0]\n",
    "        Diago.append(Cinv*D*C)\n",
    "        Mbig.append(log(m*Cinv*(D^-1)*C).list())\n",
    "    return Mbig.kernel().basis(),Diago\n",
    "\n",
    "\n",
    "#Returns U; M=UD=DU, U unipot & D diag.\n",
    "def getD(M):\n",
    "    S.<s>=QQ[]\n",
    "    charA=S(M.characteristic_polynomial('s'))\n",
    "    minpD = S(charA/(charA.gcd(charA.derivative(s))))#.derivative(s)))\n",
    "    inv  = S(minpD.derivative(s)).xgcd(minpD)[1]\n",
    "    Dbefore=zero_matrix(len(M[0]))\n",
    "    D=M\n",
    "    e=0\n",
    "    print(charA)\n",
    "    print(minpD)\n",
    "    while not Dbefore==D:\n",
    "        Dbefore,D=D,(D-minpD(D)*inv(D))\n",
    "        e+=1\n",
    "        print(D)\n",
    "        if(e==100):\n",
    "            break\n",
    "    #return D  "
   ]
  },
  {
   "cell_type": "code",
   "execution_count": null,
   "metadata": {},
   "outputs": [],
   "source": []
  },
  {
   "cell_type": "code",
   "execution_count": 3,
   "metadata": {},
   "outputs": [
    {
     "data": {
      "text/plain": [
       "x^17 + x^12 - x + 2"
      ]
     },
     "execution_count": 3,
     "metadata": {},
     "output_type": "execute_result"
    }
   ],
   "source": [
    "S.<x> = QQ[]\n",
    "S(x^17+x^12-x+2).factor()\n",
    "#g=S.random_element(5)\n",
    "#g=S( (s+1)*(s-8)*(s+11) )\n",
    "\n",
    "#inv=(g.derivative(s)).xgcd(g)[1]\n",
    "#(g.derivative()*inv-1)/g(s)"
   ]
  },
  {
   "cell_type": "code",
   "execution_count": 21,
   "metadata": {},
   "outputs": [
    {
     "data": {
      "text/plain": [
       "(s^4 + 1234*s^3 - 6/7*s - 1229)/(s^3 - 1)"
      ]
     },
     "execution_count": 21,
     "metadata": {},
     "output_type": "execute_result"
    }
   ],
   "source": [
    "a=S((s^3-1)*(s+1234)+1/7*s+5)\n",
    "S(a)/S(s^3-1)"
   ]
  },
  {
   "cell_type": "code",
   "execution_count": null,
   "metadata": {},
   "outputs": [],
   "source": []
  },
  {
   "cell_type": "code",
   "execution_count": 22,
   "metadata": {},
   "outputs": [
    {
     "name": "stdout",
     "output_type": "stream",
     "text": [
      "x^8 + 3*x^7 - 23/2*x^6 - 491/8*x^5 + 109/8*x^4 - 1119/8*x^3 + 165/8*x^2 + 165/2*x + 81/2\n",
      "x^8 + 3*x^7 - 23/2*x^6 - 491/8*x^5 + 109/8*x^4 - 1119/8*x^3 + 165/8*x^2 + 165/2*x + 81/2\n"
     ]
    }
   ],
   "source": [
    "A=random_matrix(QQ,8)\n",
    "def minp(x):\n",
    "    return A.minimal_polynomial('x')(x)\n",
    "print(A.minimal_polynomial('x'))\n",
    "print(A.characteristic_polynomial('x'))"
   ]
  },
  {
   "cell_type": "code",
   "execution_count": null,
   "metadata": {},
   "outputs": [],
   "source": []
  },
  {
   "cell_type": "code",
   "execution_count": 104,
   "metadata": {
    "scrolled": true
   },
   "outputs": [
    {
     "data": {
      "text/plain": [
       "[y2^2 - 2*y2 + 1, y1 + 16*y2 - 17]"
      ]
     },
     "execution_count": 104,
     "metadata": {},
     "output_type": "execute_result"
    }
   ],
   "source": [
    "R.<y1,y2,y3>=QQ[]\n",
    "n=17\n",
    "I=ideal(R,[(y1-y3)^2,n*y1-y2-(n-1)*y3])\n",
    "getJ(I,[[1,-1,0],[1,0,-1]])"
   ]
  },
  {
   "cell_type": "code",
   "execution_count": 116,
   "metadata": {
    "scrolled": true
   },
   "outputs": [
    {
     "name": "stdout",
     "output_type": "stream",
     "text": [
      "Ideal (y3 - 13*y4 - 8, y4^2 - y4 - 1) of Multivariate Polynomial Ring in y3, y4 over Rational Field\n",
      "[1, y4]\n"
     ]
    },
    {
     "data": {
      "text/plain": [
       "(\n",
       "[ 8 13]  [0 1]\n",
       "[13 21], [1 1]\n",
       ")"
      ]
     },
     "execution_count": 116,
     "metadata": {},
     "output_type": "execute_result"
    }
   ],
   "source": [
    "R.<y1,y2>=QQ[]\n",
    "I=ideal(R,[y2-13*y1-8,y1^2-y1-1])\n",
    "A,B=Bin(I,[[0,1],[1,0]])\n",
    "A,B"
   ]
  },
  {
   "cell_type": "code",
   "execution_count": null,
   "metadata": {},
   "outputs": [],
   "source": []
  },
  {
   "cell_type": "code",
   "execution_count": 134,
   "metadata": {},
   "outputs": [
    {
     "data": {
      "text/plain": [
       "i"
      ]
     },
     "execution_count": 134,
     "metadata": {},
     "output_type": "execute_result"
    }
   ],
   "source": [
    "K=NumberField([x^2 +1], names='i')\n",
    "K(-1).nth_root(2)"
   ]
  },
  {
   "cell_type": "code",
   "execution_count": 135,
   "metadata": {},
   "outputs": [
    {
     "data": {
      "text/plain": [
       "(\n",
       "[ -8*i -13*i]  [ 0 -i]\n",
       "[-13*i -21*i], [-i -i]\n",
       ")"
      ]
     },
     "execution_count": 135,
     "metadata": {},
     "output_type": "execute_result"
    }
   ],
   "source": [
    "AA=matrix(K,A/(K(det(A)).nth_root(2)))\n",
    "BB=matrix(K,B/(K(det(B)).nth_root(2)))\n",
    "AA,BB"
   ]
  },
  {
   "cell_type": "code",
   "execution_count": null,
   "metadata": {},
   "outputs": [],
   "source": []
  },
  {
   "cell_type": "code",
   "execution_count": null,
   "metadata": {},
   "outputs": [],
   "source": []
  },
  {
   "cell_type": "code",
   "execution_count": null,
   "metadata": {},
   "outputs": [],
   "source": [
    "bas=2\n",
    "K=NumberField([x^bas +1], names='a3')\n",
    "KK.<s>=K[]\n",
    "for k in range(5,8):\n",
    "    if KK(s^bas-k).is_irreducible():\n",
    "        K=K.extension(x^bas-k,name='a'+str(k))\n",
    "        KK.<x>=K[]\n",
    "K.absolute_vector_space()"
   ]
  },
  {
   "cell_type": "code",
   "execution_count": null,
   "metadata": {},
   "outputs": [],
   "source": []
  },
  {
   "cell_type": "code",
   "execution_count": null,
   "metadata": {},
   "outputs": [],
   "source": []
  },
  {
   "cell_type": "code",
   "execution_count": null,
   "metadata": {},
   "outputs": [],
   "source": []
  },
  {
   "cell_type": "code",
   "execution_count": null,
   "metadata": {},
   "outputs": [],
   "source": [
    "#Input: matrices M and splited determinants\n",
    "#Output: Field K with all M/[l]root(det(M))\n",
    "    Mbig=[]\n",
    "    Gamma=[]   \n",
    "    for m in M:\n",
    "        J=m.jordan_form(subdivide=False)\n",
    "        C = m.is_similar(J, transformation=True)[1]\n",
    "        Cinv=C^(-1)\n",
    "        #Cinv*J*(C)=M\n",
    "        D=m.eigenmatrix_right()[0]\n",
    "        Gamma.append(Cinv*D*C)\n",
    "        #Mbig.append(log(M*Cinv*(D^-1)*C).list())"
   ]
  },
  {
   "cell_type": "code",
   "execution_count": null,
   "metadata": {},
   "outputs": [],
   "source": [
    "#Input:K and Mswil"
   ]
  },
  {
   "cell_type": "code",
   "execution_count": null,
   "metadata": {},
   "outputs": [],
   "source": []
  },
  {
   "cell_type": "code",
   "execution_count": 155,
   "metadata": {
    "scrolled": false
   },
   "outputs": [
    {
     "name": "stdout",
     "output_type": "stream",
     "text": [
      "Ideal (x4 + 49*x5 - 50, x5^2 - 2*x5 + 1) of Multivariate Polynomial Ring in x4, x5 over Rational Field\n",
      "[1, x5]\n"
     ]
    }
   ],
   "source": [
    "R.<x1,x2,x3>=PolynomialRing(QQ,3,order='lex')\n",
    "n=50\n",
    "#I=ideal(R,[x1^2+x2^2+x3^2,x1*x2+x2*x3+x3*x1])\n",
    "I=ideal(R,[(x1-x3)^2,n*x1-x2-(n-1)*x3])\n",
    "V=[[1,-1,0],[1,0,-1]]\n",
    "[A,B]=Bin(I,V)"
   ]
  },
  {
   "cell_type": "code",
   "execution_count": 203,
   "metadata": {},
   "outputs": [
    {
     "ename": "SyntaxError",
     "evalue": "can't assign to literal (<ipython-input-203-c46de0f1aeb6>, line 3)",
     "output_type": "error",
     "traceback": [
      "\u001b[0;36m  File \u001b[0;32m\"<ipython-input-203-c46de0f1aeb6>\"\u001b[0;36m, line \u001b[0;32m3\u001b[0m\n\u001b[0;31m    'a'=vars(a)\u001b[0m\n\u001b[0m               ^\u001b[0m\n\u001b[0;31mSyntaxError\u001b[0m\u001b[0;31m:\u001b[0m can't assign to literal\n"
     ]
    }
   ],
   "source": [
    "var('h')\n",
    "var(x)\n",
    "'a'=vars(a)\n",
    "K.<a>=NumberField(h^3-2)\n",
    "K.<c>=K.extension(h^2+1)\n",
    "K((b*c*b))"
   ]
  },
  {
   "cell_type": "code",
   "execution_count": null,
   "metadata": {},
   "outputs": [],
   "source": [
    "K.<polygen(QQ,'d'+str(1))>=NumberField(s^l-det1)\n",
    "K.<polygen(QQ,'d'+str(1))>=K.extension(s^l-det2)\n",
    "K.<polygen(QQ,'d'+str(1))>=K.extension(s^l-det3)"
   ]
  },
  {
   "cell_type": "code",
   "execution_count": 8,
   "metadata": {
    "scrolled": true
   },
   "outputs": [],
   "source": [
    "bas=3\n",
    "K=NumberField([x^bas -3, x^bas -2], names=['a','b'])\n",
    "#K(6).nth_root(3)\n",
    "#KK(x^3-3).is_irreducible()"
   ]
  },
  {
   "cell_type": "code",
   "execution_count": 9,
   "metadata": {},
   "outputs": [],
   "source": [
    "K=K.extension(x^3-7,names='c')"
   ]
  },
  {
   "cell_type": "code",
   "execution_count": 13,
   "metadata": {},
   "outputs": [
    {
     "data": {
      "text/plain": [
       "3"
      ]
     },
     "execution_count": 13,
     "metadata": {},
     "output_type": "execute_result"
    }
   ],
   "source": [
    "K('a')^3"
   ]
  },
  {
   "cell_type": "code",
   "execution_count": null,
   "metadata": {},
   "outputs": [],
   "source": [
    "bas=len(Basis)\n",
    "for x in R.gens():\n",
    "    for b in Basis:\n",
    "        f=(b*x).reduce(J)\n",
    "        dic=f.dict()\n",
    "        row=len(Basis)*[0]\n",
    "        for e in f.exponent():\n",
    "            row[Basis.index()]=dict[e]"
   ]
  },
  {
   "cell_type": "code",
   "execution_count": 87,
   "metadata": {},
   "outputs": [
    {
     "data": {
      "text/plain": [
       "[0, 1, 0, 99, 1/5, 0, -7]"
      ]
     },
     "execution_count": 87,
     "metadata": {},
     "output_type": "execute_result"
    }
   ],
   "source": [
    "R.<x,y,z>=QQ[]\n",
    "Basis=[x*x*x,x*x,x,1,x*y,y*y,z*z*y*x]\n",
    "f=R(x^2-7*z*x*y*z+1/5*x*y+99)\n",
    "dic=f.dict()\n",
    "row=len(Basis)*[0]\n",
    "for e in f.exponents():\n",
    "    row[Basis.index(R({e:1}))]=dic[e]\n",
    "row"
   ]
  },
  {
   "cell_type": "code",
   "execution_count": 79,
   "metadata": {
    "scrolled": true
   },
   "outputs": [
    {
     "ename": "SyntaxError",
     "evalue": "invalid syntax (<ipython-input-79-f07493d1f895>, line 2)",
     "output_type": "error",
     "traceback": [
      "\u001b[0;36m  File \u001b[0;32m\"<ipython-input-79-f07493d1f895>\"\u001b[0;36m, line \u001b[0;32m2\u001b[0m\n\u001b[0;31m    (Integer(13)*y*z*z).dict()?\u001b[0m\n\u001b[0m                              ^\u001b[0m\n\u001b[0;31mSyntaxError\u001b[0m\u001b[0;31m:\u001b[0m invalid syntax\n"
     ]
    }
   ],
   "source": [
    "#R[{tupel(0,1,2) : 13}]\n",
    "(13*y*z*z).dict()"
   ]
  },
  {
   "cell_type": "code",
   "execution_count": null,
   "metadata": {},
   "outputs": [],
   "source": []
  },
  {
   "cell_type": "code",
   "execution_count": 56,
   "metadata": {},
   "outputs": [
    {
     "data": {
      "text/plain": [
       "-7"
      ]
     },
     "execution_count": 56,
     "metadata": {},
     "output_type": "execute_result"
    }
   ],
   "source": [
    "R.<x1,x2,x3>=PolynomialRing(QQ,3,order='lex')\n",
    "f=R(x1^3-7*x2*x1+14*x1-1/7*x3^17)\n",
    "dd=f.dict()\n",
    "E=f.exponYYYY"
   ]
  },
  {
   "cell_type": "code",
   "execution_count": 54,
   "metadata": {},
   "outputs": [
    {
     "data": {
      "text/plain": [
       "3"
      ]
     },
     "execution_count": 54,
     "metadata": {},
     "output_type": "execute_result"
    }
   ],
   "source": [
    "R.<x>=PolynomialRing(QQ)\n",
    "f=R(x^3-7*x^2+3*x-177)\n",
    "d=f.dict()\n",
    "E=f.exponents()\n",
    "d[E[1]]\n"
   ]
  },
  {
   "cell_type": "code",
   "execution_count": null,
   "metadata": {},
   "outputs": [],
   "source": []
  },
  {
   "cell_type": "code",
   "execution_count": 458,
   "metadata": {},
   "outputs": [
    {
     "data": {
      "text/plain": [
       "[[0, 0, 0, 0], [0, 0, 0, 0]]"
      ]
     },
     "execution_count": 458,
     "metadata": {},
     "output_type": "execute_result"
    }
   ],
   "source": []
  },
  {
   "cell_type": "code",
   "execution_count": null,
   "metadata": {},
   "outputs": [],
   "source": []
  },
  {
   "cell_type": "code",
   "execution_count": 205,
   "metadata": {},
   "outputs": [
    {
     "ename": "NameError",
     "evalue": "name 'Kernel' is not defined",
     "output_type": "error",
     "traceback": [
      "\u001b[0;31m---------------------------------------------------------------------------\u001b[0m",
      "\u001b[0;31mNameError\u001b[0m                                 Traceback (most recent call last)",
      "\u001b[0;32m<ipython-input-205-e369e538d554>\u001b[0m in \u001b[0;36m<module>\u001b[0;34m\u001b[0m\n\u001b[0;32m----> 1\u001b[0;31m \u001b[0mKernel\u001b[0m\u001b[0;34m(\u001b[0m\u001b[0mA\u001b[0m\u001b[0;34m)\u001b[0m\u001b[0;34m\u001b[0m\u001b[0;34m\u001b[0m\u001b[0m\n\u001b[0m",
      "\u001b[0;31mNameError\u001b[0m: name 'Kernel' is not defined"
     ]
    }
   ],
   "source": [
    "Kernel(A)"
   ]
  },
  {
   "cell_type": "code",
   "execution_count": null,
   "metadata": {},
   "outputs": [],
   "source": []
  },
  {
   "cell_type": "code",
   "execution_count": 213,
   "metadata": {},
   "outputs": [
    {
     "data": {
      "text/plain": [
       "[x5^10 + 5*x5^9 + 10*x5^8 + 10*x5^7 + 5*x5^6 + x5^5 + 5*x5^4 + 10*x5^3 + 10*x5^2 + 5*x5 + 1, x4 + x5 + 1]"
      ]
     },
     "execution_count": 213,
     "metadata": {},
     "output_type": "execute_result"
    }
   ],
   "source": [
    "R.<x1,x2,x3>=QQ[]\n",
    "RR.<x4,x5>=QQ[]\n",
    "I=ideal(R,[x1^5+x2^5+x3^5,x1*x2+x2*x3+x3*x1])\n",
    "JGB=Bin(I,[[1,-1,0],[1,0,-1]])\n",
    "\n",
    "J=ideal(RR,JGB)\n",
    "Q=RR.quotient(J)\n",
    "JJ=ideal(Q,[1])\n",
    "J.basis.reduced()"
   ]
  },
  {
   "cell_type": "code",
   "execution_count": null,
   "metadata": {},
   "outputs": [],
   "source": []
  },
  {
   "cell_type": "code",
   "execution_count": 225,
   "metadata": {},
   "outputs": [],
   "source": [
    "def ugb(I):\n",
    "    R=I.ring()\n",
    "    Sol=[]\n",
    "    V=I.groebner_fan().reduced_groebner_bases()\n",
    "    for v in V:\n",
    "        for g in v:\n",
    "            add=True\n",
    "            for f in Sol:\n",
    "                if (R(g)/R(f)) in QQ:\n",
    "                    add=False\n",
    "            if(add):\n",
    "                Sol.append(g)\n",
    "\n",
    "        SSol=[]\n",
    "        for f in Sol:\n",
    "            SSol.append(f.exponents())\n",
    "        SSol.sort()\n",
    "    return Sol"
   ]
  },
  {
   "cell_type": "code",
   "execution_count": 450,
   "metadata": {},
   "outputs": [],
   "source": [
    "R.<x1,x2,x3>=QQ[]\n",
    "I=ideal(R,[x1^3+x2^3+x3^3,x1*x2+x2*x3+x3*x1])\n",
    "#ugb(I)"
   ]
  },
  {
   "cell_type": "code",
   "execution_count": null,
   "metadata": {},
   "outputs": [],
   "source": []
  },
  {
   "cell_type": "code",
   "execution_count": 33,
   "metadata": {
    "scrolled": true
   },
   "outputs": [],
   "source": [
    "#Examples\n",
    "S2.<x,y>=PolynomialRing(QQ,2, order=\"lex\")\n",
    "S3.<x,y,z>=PolynomialRing(QQ,3, order=\"lex\")\n",
    "T.<a,b>=PolynomialRing(QQ,2, order=\"lex\")\n",
    "I1n=[ideal(S2,[y-fibonacci(n)*x-fibonacci(n-1),x*x-x-1]) for n in range(20)]\n",
    "I2n=[ideal(S3,[(x-z)^2,n*x-y-(n-1)*z]) for n in range(20)]\n",
    "E1=ideal(S2,[x^3+2*x^2+2*x+1])\n",
    "L=ideal(S2,[y-3*x-2,x*x-x-1])"
   ]
  },
  {
   "cell_type": "code",
   "execution_count": 44,
   "metadata": {},
   "outputs": [
    {
     "data": {
      "text/plain": [
       "Ideal (0) of Multivariate Polynomial Ring in x, y, z over Rational Field"
      ]
     },
     "execution_count": 44,
     "metadata": {},
     "output_type": "execute_result"
    }
   ],
   "source": [
    "R.<x,y,z>=PolynomialRing(QQ,3,order=\"deglex\")\n",
    "n=6\n",
    "t=10\n",
    "I=ideal(R,[(x-z)^2,n*x-y-(n-1)*z])\n",
    "Binomials(I,3,3)"
   ]
  },
  {
   "cell_type": "code",
   "execution_count": 40,
   "metadata": {},
   "outputs": [
    {
     "data": {
      "text/plain": [
       "[x^2, x*y, y^2]"
      ]
     },
     "execution_count": 40,
     "metadata": {},
     "output_type": "execute_result"
    }
   ],
   "source": [
    "R.<x,y,z>=PolynomialRing(QQ,3,order=\"deglex\")\n",
    "I=ideal(R,[x+y+z,x*y+y*z+x*z,x*y*z])\n",
    "J=ideal(R,[x+y,x*y])\n",
    "Monomials(J,3)"
   ]
  },
  {
   "cell_type": "code",
   "execution_count": 246,
   "metadata": {},
   "outputs": [
    {
     "data": {
      "text/plain": [
       "[[-1, -1, 0], [0, 0, -1], [1, 1, 4]]"
      ]
     },
     "execution_count": 246,
     "metadata": {},
     "output_type": "execute_result"
    }
   ],
   "source": [
    "R.<x,y,z>=PolynomialRing(QQ,order=\"deglex\")\n",
    "I=ideal(R,[x*x*y*y+z+1]).groebner_fan().tropical_intersection()\n",
    "I.rays()"
   ]
  },
  {
   "cell_type": "code",
   "execution_count": 95,
   "metadata": {
    "scrolled": true
   },
   "outputs": [
    {
     "data": {
      "text/plain": [
       "Ideal (x^2 - y*z) of Multivariate Polynomial Ring in x, y, z over Rational Field"
      ]
     },
     "execution_count": 95,
     "metadata": {},
     "output_type": "execute_result"
    }
   ],
   "source": [
    "Binomials(I2n[2],3)"
   ]
  },
  {
   "cell_type": "code",
   "execution_count": 24,
   "metadata": {
    "scrolled": true
   },
   "outputs": [
    {
     "data": {
      "text/plain": [
       "[(n + 3)/(n - 1)       4/(n - 1)]\n",
       "[     -4/(n - 1) (n - 5)/(n - 1)]"
      ]
     },
     "execution_count": 24,
     "metadata": {},
     "output_type": "execute_result"
    }
   ],
   "source": [
    "T.<n>=PolynomialRing(QQ)\n",
    "#a=matrix(T,2,[n/(n-1),1/(n-1),-1/(n-1),(n-2)/(n-1)]); \n",
    "B=matrix(T,2,[n,1,-1,(n-2)]); \n",
    "B^4/(n-1)^4"
   ]
  },
  {
   "cell_type": "code",
   "execution_count": 427,
   "metadata": {},
   "outputs": [],
   "source": []
  },
  {
   "cell_type": "code",
   "execution_count": 420,
   "metadata": {},
   "outputs": [
    {
     "data": {
      "text/plain": [
       "[123   0   0]\n",
       "[  0 111   0]\n",
       "[  0   0 -11]"
      ]
     },
     "execution_count": 420,
     "metadata": {},
     "output_type": "execute_result"
    }
   ],
   "source": [
    "M=matrix(QQ,[[-11,1,2],\n",
    "               [0,111,3],\n",
    "               [0,0,123]])\n",
    "#M=random_matrix(QQ,3,3)\n",
    "#print(M)\n",
    "M.eigenmatrix_right()[0]\n",
    "#M.exp()"
   ]
  },
  {
   "cell_type": "code",
   "execution_count": 449,
   "metadata": {},
   "outputs": [
    {
     "data": {
      "text/plain": [
       "[2421|   0|   0|   0|   0]\n",
       "[----+----+----+----+----]\n",
       "[   0|  14|   0|   0|   0]\n",
       "[----+----+----+----+----]\n",
       "[   0|   0|  14|   0|   0]\n",
       "[----+----+----+----+----]\n",
       "[   0|   0|   0|  14|   0]\n",
       "[----+----+----+----+----]\n",
       "[   0|   0|   0|   0|  14]"
      ]
     },
     "execution_count": 449,
     "metadata": {},
     "output_type": "execute_result"
    }
   ],
   "source": [
    "e=matrix(QQ,[[0,1,0,0,0],\n",
    "             [4,0,0,0,0],             \n",
    "             [0,0,0,0,6/5],\n",
    "             [0,0,0,-71,0],\n",
    "             [0,0,326423,0,0]])\n",
    "\n",
    "M=e*matrix(QQ,[[2421,1233121,12,1/7,13],\n",
    "               [0,14,-7/8,-12342,142],\n",
    "               [0,0,14,14,142],\n",
    "               [0,0,0,14,142],\n",
    "               [0,0,0,0,14]])*(e^-1)\n",
    "\n",
    "J=M.jordan_form(subdivide=False)\n",
    "C = M.is_similar(J, transformation=True)[1]\n",
    "Cinv=C^(-1)\n",
    "#(C^-1)*J*(C)=M\n",
    "D=M.eigenmatrix_right()[0]\n",
    "gamma=Cinv*D*C\n",
    "U=M*Cinv*(D^-1)*C\n",
    "gamma.jordan_form()\n",
    "\n",
    "#M=(C^-1)*D*C*(  1  +(C^-1)*(D^-1)*N*C  )\n"
   ]
  },
  {
   "cell_type": "code",
   "execution_count": null,
   "metadata": {},
   "outputs": [],
   "source": []
  }
 ],
 "metadata": {
  "kernelspec": {
   "display_name": "SageMath 9.3",
   "language": "sage",
   "name": "sagemath"
  },
  "language_info": {
   "codemirror_mode": {
    "name": "ipython",
    "version": 3
   },
   "file_extension": ".py",
   "mimetype": "text/x-python",
   "name": "python",
   "nbconvert_exporter": "python",
   "pygments_lexer": "ipython3",
   "version": "3.7.10"
  }
 },
 "nbformat": 4,
 "nbformat_minor": 4
}
