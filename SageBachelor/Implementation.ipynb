{
 "cells": [
  {
   "cell_type": "code",
   "execution_count": 6,
   "metadata": {},
   "outputs": [],
   "source": [
    "def Mon(I):\n",
    "    Rold=I.ring()\n",
    "    n=Rold.ngens()\n",
    "    char=str(Rold.gens()[0])[0]\n",
    "    \n",
    "    for k in range(1,2*n+1):\n",
    "        var(char+str(k))\n",
    "    \n",
    "    Rbig=PolynomialRing(QQ,[(char+'%s') %k for k in range(1,2*n+1)],order='invlex')\n",
    "    R=PolynomialRing(QQ,[(char+'%s') %k for k in range(1,n+1)],order='lex')\n",
    "    GB=I.groebner_basis()\n",
    "    \n",
    "    m=Rbig(1)\n",
    "    for k in range(n+1,2*n+1):\n",
    "        m*=Rbig(char+str(k))\n",
    "    GB_big=[m-1]\n",
    " \n",
    "    for f in GB:\n",
    "        f=Rbig(f)\n",
    "        for k in range(1,n+1):\n",
    "            f=f.subs({Rbig(char+str(k)):Rbig(char+str(k))*Rbig(char+str(n+k))})\n",
    "        GB_big+=[f]\n",
    "\n",
    "    MonI=[]\n",
    "    GB_sol=ideal(Rbig,GB_big).groebner_basis()\n",
    "    print(GB_sol)\n",
    "    for g in GB_sol:\n",
    "        if g.lm() < Rbig(char+str(n+1)) and g.lt()==g:\n",
    "            MonI+=[g]\n",
    "    return Ideal(R,MonI).groebner_basis()"
   ]
  },
  {
   "cell_type": "code",
   "execution_count": 7,
   "metadata": {},
   "outputs": [],
   "source": [
    "import numpy as np\n",
    "def BinO(I,t):\n",
    "    n=I.ring().ngens()\n",
    "    Rold=I.ring()\n",
    "    R.<x,y,z,w> = PolynomialRing(QQ,4,order=\"deglex\")\n",
    "    if(n>1):\n",
    "        I=I.change_ring(R).groebner_basis()\n",
    "    else:\n",
    "        I=I.groebner_basis()\n",
    "    p=[]\n",
    "    if(n==4):\n",
    "        for f in I:\n",
    "            v=f.degree()\n",
    "            for a in range(t-v+1):\n",
    "                for b in range(t-v-a+1):\n",
    "                    for c in range(t-v-a-b+1):\n",
    "                        for d in range(t-v-a-b-c+1):\n",
    "                            p.append(f*x^a*y^b*z^c*w^d)\n",
    "    elif(n==3):\n",
    "        for f in I:\n",
    "            v=f.degree()\n",
    "            for a in range(t-v+1):\n",
    "                for b in range(t-v-a+1):\n",
    "                    for c in range(t-v-a-b+1):\n",
    "                        p.append(f*x^a*y^b*z^c)\n",
    "    elif(n==2):\n",
    "        for f in I:\n",
    "            v=f.degree()\n",
    "            for a in range(t-v+1):\n",
    "                for b in range(t-v-a+1):\n",
    "                        p.append(f*x^a*y^b)\n",
    "    elif(n==1):\n",
    "        for f in I:\n",
    "            for a in range(t-f.degree()+1):\n",
    "                        p.append(f*x^a)              \n",
    "                    \n",
    "    A=Sequence(p).coefficient_matrix()\n",
    "    M=Matroid(A[0].right_kernel().basis_matrix()).circuits()\n",
    "    X=[]\n",
    "    for c in M:\n",
    "        if len(c)==2:\n",
    "            x=list(c)\n",
    "            m=R(A[1][x[0]])\n",
    "            n=R(A[1][x[1]])\n",
    "            if m>n:\n",
    "                m,n=n,m\n",
    "            X.append(n-m*(n.reduce(I)/m.reduce(I)))\n",
    "    I=ideal(R,ideal(R,X).groebner_basis()).change_ring(Rold)\n",
    "    return I.groebner_basis()"
   ]
  },
  {
   "cell_type": "code",
   "execution_count": 8,
   "metadata": {},
   "outputs": [],
   "source": [
    "import numpy as np\n",
    "def Bin(I,t):\n",
    "    Rold=I.ring()\n",
    "    n=Rold.ngens()\n",
    "    char=str(I.ring().gens()[0])[0]\n",
    "    R=PolynomialRing(QQ,[(char+'%s') %k for k in range(1,n+1)],order='deglex')\n",
    "    Pall=[]\n",
    "    GBI=I.groebner_basis()\n",
    "  \n",
    "\n",
    "    #Setting up all the vectors\n",
    "    P=GBI\n",
    "    for x in Rold.gens():\n",
    "        xToP=[]\n",
    "        for g in P:\n",
    "            v=g.degree()\n",
    "            for k in range(t-v+1):\n",
    "                xToP.append(g*x^k)\n",
    "        P=xToP\n",
    "    A=Sequence(ideal(P)).coefficient_matrix()\n",
    "    M=Matroid(A[0].right_kernel().basis_matrix()).circuits()\n",
    "    X=[]\n",
    "    for c in M:\n",
    "        if len(c)==2:\n",
    "            print(c)\n",
    "            s=list(c)\n",
    "            m=R(A[1][s[0]])\n",
    "            n=R(A[1][s[1]])\n",
    "            if m>n:\n",
    "                m,n=n,m\n",
    "            X.append(n-m*(n.reduce(I)/m.reduce(I)))\n",
    "    BinI=ideal(R,ideal(R,X).groebner_basis()).groebner_basis()\n",
    "    return BinI"
   ]
  },
  {
   "cell_type": "code",
   "execution_count": 9,
   "metadata": {},
   "outputs": [],
   "source": [
    "def ugb(I):\n",
    "    R=I.ring()\n",
    "    Sol=[]\n",
    "    V=I.groebner_fan().reduced_groebner_bases()\n",
    "    for v in V:\n",
    "        for g in v:\n",
    "            add=True\n",
    "            for f in Sol:\n",
    "                if (R(g)/R(f)) in QQ:\n",
    "                    add=False\n",
    "            if(add):\n",
    "                Sol.append(g)\n",
    "        Sol.sort()\n",
    "    return Sol"
   ]
  },
  {
   "cell_type": "code",
   "execution_count": 2,
   "metadata": {},
   "outputs": [],
   "source": [
    "def getJ(I,V):\n",
    "    n=I.ring().ngens()\n",
    "    d=len(V)\n",
    "    char=str(I.ring().gens()[0])[0]\n",
    "    Main=I.groebner_basis()\n",
    "    for k in range(1,n+d+1):\n",
    "        var(char+str(k))\n",
    "    L=LaurentPolynomialRing(QQ,[(char+'%s') %k for k in range(1,n+d+1)],order='lex') \n",
    "    Rbig=PolynomialRing(QQ,[(char+'%s') %k for k in range(1,n+d+1)],order='lex') \n",
    "    R=   PolynomialRing(QQ,[(char+'%s') %k for k in range(n+1,n+d+1)],order='deglex') \n",
    "    RofJ=PolynomialRing(QQ,[(char+'%s') %k for k in range(1,d+1)],order='deglex') \n",
    "    \n",
    "    #go to R[A]\n",
    "    sub=[]\n",
    "    for v in range(d):\n",
    "        mon=L(1)\n",
    "        for e in range(n):\n",
    "            mon*=(L(char+str(e+1))^(V[v][e]))\n",
    "        Main+=[mon-L(char+str(v+1+n))]\n",
    "        sub.append(mon)\n",
    "    GB=ideal(L,Main).groebner_basis()\n",
    "    \n",
    "    #Find J\n",
    "    genJhigh=[]\n",
    "    for g in GB:\n",
    "        if Rbig(g).lm()< L(char+str(n)):\n",
    "            genJhigh.append(Rbig(g))\n",
    "    genJ=[]\n",
    "    for f in genJhigh:\n",
    "        for k in range(1,d+1):\n",
    "            f=f.subs({Rbig(char+str(n+k)):Rbig(char+str(k))})\n",
    "        genJ.append(f)\n",
    "    J=ideal(RofJ,genJ)\n",
    "    return J.groebner_basis()"
   ]
  },
  {
   "cell_type": "code",
   "execution_count": 26,
   "metadata": {},
   "outputs": [
    {
     "name": "stdout",
     "output_type": "stream",
     "text": [
      "[1, a1, a2, a1*a2, a2^2, a1*a2^2]\n"
     ]
    },
    {
     "data": {
      "text/plain": [
       "4"
      ]
     },
     "execution_count": 26,
     "metadata": {},
     "output_type": "execute_result"
    }
   ],
   "source": [
    "R.<a1,a2>=QQ[]\n",
    "n=13\n",
    "I=ideal(R,[a1^2-a2,a2^3-2])\n",
    "[A,B]=getM(I)\n",
    "B.det()"
   ]
  },
  {
   "cell_type": "code",
   "execution_count": 22,
   "metadata": {},
   "outputs": [
    {
     "name": "stdout",
     "output_type": "stream",
     "text": [
      "[ 1/12  1/12]\n",
      "[-1/12 -1/12]\n"
     ]
    }
   ],
   "source": [
    "print(log(A))"
   ]
  },
  {
   "cell_type": "code",
   "execution_count": 6,
   "metadata": {},
   "outputs": [
    {
     "data": {
      "text/plain": [
       "(x^2 + 1) * (x^2 + x + 1)"
      ]
     },
     "execution_count": 6,
     "metadata": {},
     "output_type": "execute_result"
    }
   ],
   "source": [
    "A.charpoly().factor()"
   ]
  },
  {
   "cell_type": "code",
   "execution_count": 63,
   "metadata": {},
   "outputs": [
    {
     "data": {
      "text/plain": [
       "[3/2   1   0]\n",
       "[  0   2   1]\n",
       "[1/2   0   1]"
      ]
     },
     "execution_count": 63,
     "metadata": {},
     "output_type": "execute_result"
    }
   ],
   "source": [
    "A=matrix(QQ,[[1,2,0,-1,5],[2,0,2,0,1],[1,1,-1,3,2],[0,3,-3,2,6]]).T\n",
    "B=matrix(QQ,[[1,2,3],[2,1,1],[0,2,1]])\n",
    "Bp=matrix(QQ,[[0,1,2],[1,0,1],[0,1,0]])\n",
    "G=matrix(QQ,[[3,1,1],[0,-1,-3],[0,-5,1]])\n",
    "Bp^-1*B"
   ]
  },
  {
   "cell_type": "code",
   "execution_count": 69,
   "metadata": {},
   "outputs": [
    {
     "data": {
      "text/plain": [
       "True"
      ]
     },
     "execution_count": 69,
     "metadata": {},
     "output_type": "execute_result"
    }
   ],
   "source": [
    "kern=span([ vector(QQ,[-7,0,6,3,2]),vector(QQ,[0,5,1,0,-2])]  )\n",
    "vector(QQ,[-7,0,6,3,2]) in kern"
   ]
  },
  {
   "cell_type": "code",
   "execution_count": 60,
   "metadata": {},
   "outputs": [
    {
     "data": {
      "text/plain": [
       "True"
      ]
     },
     "execution_count": 60,
     "metadata": {},
     "output_type": "execute_result"
    }
   ],
   "source": [
    "Im=span([vector(QQ,[1,2,1,0]),vector(QQ,[2,0,1,3]),vector(QQ,[0,-2,1,3])])\n",
    "vector(QQ,[0,0,1,1]) in Im"
   ]
  },
  {
   "cell_type": "code",
   "execution_count": 79,
   "metadata": {},
   "outputs": [
    {
     "data": {
      "text/plain": [
       "a^8 + a^7 - a^6 - 2*a^5 + 2*a^3 + a^2 - a - 1"
      ]
     },
     "execution_count": 79,
     "metadata": {},
     "output_type": "execute_result"
    }
   ],
   "source": [
    "(a^12-1)/(a^4-a^3+2*a^2-a+1)"
   ]
  },
  {
   "cell_type": "code",
   "execution_count": 80,
   "metadata": {},
   "outputs": [
    {
     "data": {
      "text/plain": [
       "a^8 - a^7 - a^6 + 2*a^5 - 2*a^3 + a^2 + a - 1"
      ]
     },
     "execution_count": 80,
     "metadata": {},
     "output_type": "execute_result"
    }
   ],
   "source": [
    "(a^12-1)/(a^4+a^3+2*a^2+a+1)"
   ]
  },
  {
   "cell_type": "code",
   "execution_count": 81,
   "metadata": {},
   "outputs": [
    {
     "data": {
      "text/plain": [
       "(a - 1) * (a + 1) * (a^2 - a + 1) * (a^4 - a^2 + 1)"
      ]
     },
     "execution_count": 81,
     "metadata": {},
     "output_type": "execute_result"
    }
   ],
   "source": [
    "(a^8 - a^7 - a^6 + 2*a^5 - 2*a^3 + a^2 + a - 1).factor()"
   ]
  },
  {
   "cell_type": "code",
   "execution_count": 87,
   "metadata": {},
   "outputs": [
    {
     "data": {
      "text/plain": [
       "a^12 - 2*a^11 + 2*a^10 - 2*a^8 + 2*a^7 - 2*a^5 + 2*a^4 - 2*a^2 + 2*a - 1"
      ]
     },
     "execution_count": 87,
     "metadata": {},
     "output_type": "execute_result"
    }
   ],
   "source": [
    "(a^4 - a^3 + 2*a^2 - a + 1)*(a^8 - a^7 - a^6 + 2*a^5 - 2*a^3 + a^2 + a - 1)"
   ]
  },
  {
   "cell_type": "code",
   "execution_count": 1,
   "metadata": {},
   "outputs": [],
   "source": [
    "#Input: I and T(I)^l\n",
    "#Output: |T(I)^l| matrices M \n",
    "def getM(J):\n",
    "    J=J.groebner_basis()\n",
    "    d=J.ring().ngens()\n",
    "    char=str(I.ring().gens()[0])[0]\n",
    "     \n",
    "    R=PolynomialRing(QQ,[(char+'%s') %k for k in range(1,d+1)],order='lex')\n",
    "\n",
    "    #Basis of R/(J)\n",
    "    Basis=[R(1)]; \n",
    "    HeadJ=[]\n",
    "\n",
    "    for g in J:\n",
    "        HeadJ.append(g.lm())\n",
    "   \n",
    "    if(d==1):\n",
    "        Basis=[R(char+'1')^k for k in range(J[0].degree())]\n",
    "    else:\n",
    "        for x in R.gens():\n",
    "            for b in Basis:\n",
    "                if not (b*x).reduce(HeadJ)==0:\n",
    "                    Basis.append(b*x)\n",
    "    print(Basis)\n",
    "    #makeMatrix\n",
    "    bas=len(Basis)\n",
    "    M=[]\n",
    "    for x in R.gens():\n",
    "        mset=[]\n",
    "        for b in Basis:\n",
    "            if(d==1):\n",
    "                f=(b*x).mod(J[0]) \n",
    "            else:\n",
    "                f=(b*x).reduce(J)\n",
    "            dic=f.dict()\n",
    "            row=bas*[0]\n",
    "            for e in f.exponents():\n",
    "                row[Basis.index(R({e:1}))]=dic[e]\n",
    "            mset.append(row)\n",
    "        M.append(matrix(QQ,mset).T)\n",
    "    return M"
   ]
  },
  {
   "cell_type": "code",
   "execution_count": 15,
   "metadata": {},
   "outputs": [],
   "source": [
    "def exp(N):\n",
    "    n=len(N[0])\n",
    "    if not (N^n).is_zero():\n",
    "        raise ValueError('N non nilpotent')\n",
    "    B=1\n",
    "    for i in range(1,n+2):\n",
    "        B=B+(1/(gamma(i+1)))*(N^i)\n",
    "    return B\n",
    "def log(U):\n",
    "    n=len(U[0])\n",
    "    if( not( (U-1)^n).is_zero()):\n",
    "        raise ValueError('U non unipotent')\n",
    "    B=0\n",
    "    for i in range(1,n+2):\n",
    "        B=B-(1/i)*((1-U)^i)\n",
    "    return B"
   ]
  },
  {
   "cell_type": "code",
   "execution_count": 13,
   "metadata": {},
   "outputs": [],
   "source": [
    "def Unip(U):\n",
    "    Mset=[]\n",
    "    for u in U:\n",
    "        Mset.append(log(u).list())\n",
    "    return matrix(QQ,Mset).kernel().basis()"
   ]
  },
  {
   "cell_type": "code",
   "execution_count": 14,
   "metadata": {},
   "outputs": [],
   "source": [
    "#Input: K M in K\n",
    "#Output: L1 and M' diagon\n",
    "def split1(M,K):\n",
    "    Diago=[]\n",
    "    Mbig=[]\n",
    "    for m in M:\n",
    "        J=m.jordan_form(K)\n",
    "        C = m.is_similar(J, transformation=True)[1]\n",
    "        Cinv=C^(-1)\n",
    "        #M=Cinv*J*(C)\n",
    "        D=m.eigenmatrix_right()[0]\n",
    "        Diago.append(Cinv*D*C)\n",
    "        Mbig.append(log(m*Cinv*(D^-1)*C).list())\n",
    "    return Mbig.kernel().basis(),Diago\n",
    "\n",
    "\n",
    "#Returns U; M=UD=DU, U unipot & D diag.\n",
    "def getD(M):\n",
    "    S.<s>=QQ[]\n",
    "    charA=S(M.characteristic_polynomial('s'))\n",
    "    minpD = S(charA/(charA.gcd(charA.derivative(s))))#.derivative(s)))\n",
    "    inv  = S(minpD.derivative(s)).xgcd(minpD)[1]\n",
    "    Dbefore=zero_matrix(len(M[0]))\n",
    "    D=M\n",
    "    e=0\n",
    "    print(charA)\n",
    "    print(minpD)\n",
    "    while not Dbefore==D:\n",
    "        Dbefore,D=D,(D-minpD(D)*inv(D))\n",
    "        e+=1\n",
    "        print(D)\n",
    "        if(e==100):\n",
    "            break\n",
    "    #return D  \n"
   ]
  },
  {
   "cell_type": "code",
   "execution_count": null,
   "metadata": {},
   "outputs": [],
   "source": []
  },
  {
   "cell_type": "code",
   "execution_count": null,
   "metadata": {},
   "outputs": [],
   "source": []
  },
  {
   "cell_type": "code",
   "execution_count": null,
   "metadata": {},
   "outputs": [],
   "source": [
    "K.<polygen(QQ,'d'+str(1))>=K.extension(s^l-det2)\n",
    "K.<polygen(QQ,'d'+str(1))>=K.extension(s^l-det3)\n",
    "K=NumberField([x^2 +1], names='i')\n",
    "K(-1).nth_root(2)\n",
    "AA=matrix(K,A/(K(det(A)).nth_root(2)))\n",
    "BB=matrix(K,B/(K(det(B)).nth_root(2)))\n",
    "AA,BB\n",
    "bas=2\n",
    "K=NumberField([x^bas +1], names='a3')\n",
    "KK.<s>=K[]\n",
    "for k in range(5,8):\n",
    "    if KK(s^bas-k).is_irreducible():\n",
    "        K=K.extension(x^bas-k,name='a'+str(k))\n",
    "        KK.<x>=K[]\n",
    "K.absolute_vector_space()"
   ]
  },
  {
   "cell_type": "code",
   "execution_count": null,
   "metadata": {},
   "outputs": [],
   "source": []
  },
  {
   "cell_type": "code",
   "execution_count": null,
   "metadata": {},
   "outputs": [],
   "source": []
  },
  {
   "cell_type": "code",
   "execution_count": null,
   "metadata": {},
   "outputs": [],
   "source": [
    "#Input: matrices M and splited determinants\n",
    "#Output: Field K with all M/[l]root(det(M))\n",
    "    Mbig=[]\n",
    "    Gamma=[]   \n",
    "    for m in M:\n",
    "        J=m.jordan_form(subdivide=False)\n",
    "        C = m.is_similar(J, transformation=True)[1]\n",
    "        Cinv=C^(-1)\n",
    "        #Cinv*J*(C)=M\n",
    "        D=m.eigenmatrix_right()[0]\n",
    "        Gamma.append(Cinv*D*C)\n",
    "        #Mbig.append(log(M*Cinv*(D^-1)*C).list())"
   ]
  },
  {
   "cell_type": "code",
   "execution_count": null,
   "metadata": {},
   "outputs": [],
   "source": []
  },
  {
   "cell_type": "code",
   "execution_count": 33,
   "metadata": {
    "scrolled": true
   },
   "outputs": [],
   "source": [
    "#Examples\n",
    "S2.<x,y>=PolynomialRing(QQ,2, order=\"lex\")\n",
    "S3.<x,y,z>=PolynomialRing(QQ,3, order=\"lex\")\n",
    "T.<a,b>=PolynomialRing(QQ,2, order=\"lex\")\n",
    "I1n=[ideal(S2,[y-fibonacci(n)*x-fibonacci(n-1),x*x-x-1]) for n in range(20)]\n",
    "I2n=[ideal(S3,[(x-z)^2,n*x-y-(n-1)*z]) for n in range(20)]\n",
    "E1=ideal(S2,[x^3+2*x^2+2*x+1])\n",
    "L=ideal(S2,[y-3*x-2,x*x-x-1])"
   ]
  },
  {
   "cell_type": "code",
   "execution_count": 449,
   "metadata": {},
   "outputs": [
    {
     "data": {
      "text/plain": [
       "[2421|   0|   0|   0|   0]\n",
       "[----+----+----+----+----]\n",
       "[   0|  14|   0|   0|   0]\n",
       "[----+----+----+----+----]\n",
       "[   0|   0|  14|   0|   0]\n",
       "[----+----+----+----+----]\n",
       "[   0|   0|   0|  14|   0]\n",
       "[----+----+----+----+----]\n",
       "[   0|   0|   0|   0|  14]"
      ]
     },
     "execution_count": 449,
     "metadata": {},
     "output_type": "execute_result"
    }
   ],
   "source": [
    "e=matrix(QQ,[[0,1,0,0,0],\n",
    "             [4,0,0,0,0],             \n",
    "             [0,0,0,0,6/5],\n",
    "             [0,0,0,-71,0],\n",
    "             [0,0,326423,0,0]])\n",
    "\n",
    "M=e*matrix(QQ,[[2421,1233121,12,1/7,13],\n",
    "               [0,14,-7/8,-12342,142],\n",
    "               [0,0,14,14,142],\n",
    "               [0,0,0,14,142],\n",
    "               [0,0,0,0,14]])*(e^-1)\n",
    "\n",
    "J=M.jordan_form(subdivide=False)\n",
    "C = M.is_similar(J, transformation=True)[1]\n",
    "Cinv=C^(-1)\n",
    "#(C^-1)*J*(C)=M\n",
    "D=M.eigenmatrix_right()[0]\n",
    "gamma=Cinv*D*C\n",
    "U=M*Cinv*(D^-1)*C\n",
    "gamma.jordan_form()\n",
    "\n",
    "#M=(C^-1)*D*C*(  1  +(C^-1)*(D^-1)*N*C  )\n"
   ]
  },
  {
   "cell_type": "code",
   "execution_count": null,
   "metadata": {},
   "outputs": [],
   "source": []
  }
 ],
 "metadata": {
  "kernelspec": {
   "display_name": "SageMath 9.3",
   "language": "sage",
   "name": "sagemath"
  },
  "language_info": {
   "codemirror_mode": {
    "name": "ipython",
    "version": 3
   },
   "file_extension": ".py",
   "mimetype": "text/x-python",
   "name": "python",
   "nbconvert_exporter": "python",
   "pygments_lexer": "ipython3",
   "version": "3.7.10"
  }
 },
 "nbformat": 4,
 "nbformat_minor": 4
}
