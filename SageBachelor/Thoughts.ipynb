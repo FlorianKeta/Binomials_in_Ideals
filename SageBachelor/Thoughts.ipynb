{
 "cells": [
  {
   "cell_type": "code",
   "execution_count": 1,
   "metadata": {},
   "outputs": [],
   "source": [
    "n=6\n",
    "R=PolynomialRing(QQ, 'x', n, order=\"lex\") #deglex\n",
    "x=R.gens()\n",
    "I=ideal(R,[x[0]^2+x[0]*x[1]^2,x[0]^2*x[2]+x[3]])\n",
    "#R.<x1,x2,x3,x4>=PolynomialRing(QQ,4,order='lex')"
   ]
  },
  {
   "cell_type": "code",
   "execution_count": 2,
   "metadata": {},
   "outputs": [
    {
     "data": {
      "text/plain": [
       "False"
      ]
     },
     "execution_count": 2,
     "metadata": {},
     "output_type": "execute_result"
    }
   ],
   "source": [
    "R.<x>=PolynomialRing(IntegerModRing(7))\n",
    "f=R(3*x-1+x)\n",
    "I=ideal(R,[2])\n",
    "I.is_prime()"
   ]
  },
  {
   "cell_type": "code",
   "execution_count": 3,
   "metadata": {},
   "outputs": [
    {
     "data": {
      "text/plain": [
       "[y^2 + 1/2, x + y]"
      ]
     },
     "execution_count": 3,
     "metadata": {},
     "output_type": "execute_result"
    }
   ],
   "source": [
    "S.<x,y>=PolynomialRing(QQ)\n",
    "P=ideal(S,[x^2+y^2+1,x*y-x^2-1,x+y]).groebner_basis()\n",
    "P"
   ]
  },
  {
   "cell_type": "code",
   "execution_count": 4,
   "metadata": {},
   "outputs": [],
   "source": [
    "def div(g,f):\n",
    "    return ideal([g.lm()]).reduce(f.lm())==0        "
   ]
  },
  {
   "cell_type": "code",
   "execution_count": 5,
   "metadata": {},
   "outputs": [
    {
     "data": {
      "text/plain": [
       "[1]"
      ]
     },
     "execution_count": 5,
     "metadata": {},
     "output_type": "execute_result"
    }
   ],
   "source": [
    "ideal(S,[x+y,x+y+1]).groebner_basis()\n",
    "ideal(S,[x+y,x+y+1]).groebner_basis()"
   ]
  },
  {
   "cell_type": "code",
   "execution_count": null,
   "metadata": {},
   "outputs": [],
   "source": [
    "var('y') #not sure\n",
    "f=R(x[1]*x[0]*x[0]+x[2]*x[0]+x[3])\n",
    "f.derivative(x[0])"
   ]
  },
  {
   "cell_type": "code",
   "execution_count": null,
   "metadata": {},
   "outputs": [],
   "source": [
    "#Plot\n",
    "Rt.<t>=PolynomialRing(QQ,1)\n",
    "Rxy.<x,y>=PolynomialRing(QQ,2)\n",
    "R.<t,x,y>=PolynomialRing(QQ,3,order='lex')\n",
    "f=(t-1)*(t+1); g=(t-1)*t*(t+1);\n",
    "B=ideal([x-f,y-g]).groebner_basis()\n",
    "h=Rxy(B[-1])\n",
    "#parametric_plot((Rt(f),Rt(g)),(t,-1.5,1.5))\n",
    "implicit_plot(h, (x, -1, 1), (y, -2, 2))"
   ]
  },
  {
   "cell_type": "code",
   "execution_count": null,
   "metadata": {},
   "outputs": [],
   "source": [
    "#Invert\n",
    "Rxy.<x,y>=PolynomialRing(QQ,2)\n",
    "RXY.<X,Y>=PolynomialRing(QQ,2)\n",
    "R.<x,y,X,Y>=PolynomialRing(QQ,4,order='lex')\n",
    "eqs=[h, X*y - x*Y, (X^2 + Y^2)*(x^2 + y^2) - 1]\n",
    "GB=ideal(eqs).groebner_basis()\n",
    "g=RXY(GB[-1])\n",
    "l=g.factor()[0][0]\n",
    "lplot=implicit_plot(RXY(l),(X,-2,2),(Y,-2,2), color=\"red\")\n",
    "hplot=implicit_plot(Rxy(h), (x, -2, 2), (y, -2, 2), color='blue')\n",
    "hplot+lplot"
   ]
  },
  {
   "cell_type": "code",
   "execution_count": null,
   "metadata": {},
   "outputs": [],
   "source": [
    "R.<x,y,z,w>=PolynomialRing(QQ,4, order=\"lex\")\n",
    "B=ideal(R,[x*x*x*y,x*x*y*y,x*y*y*y,x*y-x-y]).groebner_basis()\n",
    "B.groebner_fan()"
   ]
  },
  {
   "cell_type": "code",
   "execution_count": 7,
   "metadata": {},
   "outputs": [],
   "source": [
    "#n<5 in x,y,z,w\n",
    "def monomials(S):\n",
    "    Rx.<x,y,z,w>=PolynomialRing(QQ,4,order=\"lex\")\n",
    "    Rax.<a,b,c,d,X,Y,Z,W>=PolynomialRing(QQ,8,order=\"lex\")\n",
    "    T=[a*b*c*d-1]\n",
    "    for s in S:\n",
    "        f=Rx(s)\n",
    "        T=T+[f(X*a,Y*b,Z*c,W*d)]\n",
    "    B=ideal(Rax,T).groebner_basis()\n",
    "    L=[]\n",
    "    for b in B:\n",
    "        if b.lm()==b:\n",
    "            L=L+[Rx(b(0,0,0,0,x,y,z,w))]\n",
    "    return L"
   ]
  },
  {
   "cell_type": "code",
   "execution_count": 8,
   "metadata": {},
   "outputs": [
    {
     "name": "stdout",
     "output_type": "stream",
     "text": [
      "[x^4, x^3*y, x^2*y^2, x*y^3, y^4]\n",
      "[x^3, x^2*y^2, x^2*z^2, x*y*z, y^3, y^2*z^2, z^3]\n"
     ]
    }
   ],
   "source": [
    "R.<x,y,z>=PolynomialRing(QQ,3, order=\"lex\")\n",
    "I=[x + y^3 + y^2 + y, y^4]\n",
    "S=[x+y+z,x^2+y^2+z^2,x^3+y^3+z^3]\n",
    "T=[x*x-x,y*y-y]\n",
    "print(monomials(I))\n",
    "print(monomials(S))\n",
    "#print(monomials(T))\n",
    "#print(ideal(T).reduce(x*y*(2*x*x+y*y-3)))"
   ]
  },
  {
   "cell_type": "code",
   "execution_count": 9,
   "metadata": {},
   "outputs": [
    {
     "data": {
      "text/plain": [
       "x0*x1 + x0*x2"
      ]
     },
     "execution_count": 9,
     "metadata": {},
     "output_type": "execute_result"
    }
   ],
   "source": [
    "R.<y,x>=PolynomialRing(QQ,2, order=\"lex\")\n",
    "n=6\n",
    "R=PolynomialRing(QQ, 'x', n, order=\"lex\")\n",
    "x=R.gens()\n",
    "R(x[0]*x[2]+x[1]*x[0])"
   ]
  },
  {
   "cell_type": "code",
   "execution_count": 10,
   "metadata": {},
   "outputs": [
    {
     "data": {
      "text/plain": [
       "(x^2 + y^3)/y^2"
      ]
     },
     "execution_count": 10,
     "metadata": {},
     "output_type": "execute_result"
    }
   ],
   "source": [
    "R.<x,y>=PolynomialRing(QQ,2, order=\"lex\")\n",
    "f=x*x+y\n",
    "f(x/y,y)"
   ]
  },
  {
   "cell_type": "code",
   "execution_count": 11,
   "metadata": {
    "scrolled": true
   },
   "outputs": [],
   "source": [
    "A=IntegerModRing(4)\n",
    "R.<x>=PolynomialRing(A,1)\n",
    "#A.UnitField()"
   ]
  },
  {
   "cell_type": "code",
   "execution_count": 4,
   "metadata": {},
   "outputs": [
    {
     "data": {
      "text/plain": [
       "[1 2 2 1]\n",
       "[0 1 2 2]\n",
       "[0 1 2 2]\n",
       "[0 1 2 2]"
      ]
     },
     "execution_count": 4,
     "metadata": {},
     "output_type": "execute_result"
    }
   ],
   "source": [
    "A = matrix (QQ,[[1,2,2,1],[0,1,2,2],\n",
    "[0,1,2,2],[0,1,2,2]])\n",
    "S = A.right_kernel(); \n",
    "M = Matroid(S.basis_matrix())\n",
    "#for c in M.circuits(): print(c)\n",
    "A"
   ]
  },
  {
   "cell_type": "code",
   "execution_count": 6,
   "metadata": {},
   "outputs": [
    {
     "data": {
      "text/plain": [
       "[1 0 0 0]\n",
       "[0 1 0 0]\n",
       "[0 0 1 0]\n",
       "[0 0 0 1]"
      ]
     },
     "execution_count": 6,
     "metadata": {},
     "output_type": "execute_result"
    }
   ],
   "source": [
    "A^0"
   ]
  },
  {
   "cell_type": "code",
   "execution_count": 78,
   "metadata": {},
   "outputs": [],
   "source": [
    "def exp(A):\n",
    "    n=len(A[0])\n",
    "    if(not (A^n).is_zero()):\n",
    "        return -1\n",
    "    B=zero_matrix(n)\n",
    "    for i in range(n):\n",
    "        B=B+(A^(i))*(1/(gamma(i+1)))\n",
    "    return B\n",
    "\n",
    "def log(A):\n",
    "    n=len(A[0])\n",
    "    if(not ((identity_matrix(n)-A)^n).is_zero()):\n",
    "        return -1\n",
    "    B=zero_matrix(n)\n",
    "    for i in range(1,n):\n",
    "        B=B-((identity_matrix(n)-A)^(i))*(1/i)\n",
    "    return B"
   ]
  },
  {
   "cell_type": "code",
   "execution_count": 88,
   "metadata": {
    "scrolled": true
   },
   "outputs": [
    {
     "data": {
      "text/plain": [
       "[0 0 0 0 0 0]\n",
       "[0 0 0 0 0 0]\n",
       "[0 0 0 0 0 0]\n",
       "[0 0 0 0 0 0]\n",
       "[0 0 0 0 0 0]\n",
       "[0 0 0 0 0 0]"
      ]
     },
     "execution_count": 88,
     "metadata": {},
     "output_type": "execute_result"
    }
   ],
   "source": [
    "exp(log(A))-A"
   ]
  },
  {
   "cell_type": "code",
   "execution_count": 69,
   "metadata": {},
   "outputs": [
    {
     "data": {
      "text/plain": [
       "True"
      ]
     },
     "execution_count": 69,
     "metadata": {},
     "output_type": "execute_result"
    }
   ],
   "source": [
    "(A^len(A[0])).is_zero()"
   ]
  },
  {
   "cell_type": "code",
   "execution_count": 87,
   "metadata": {},
   "outputs": [],
   "source": [
    "A = matrix (QQ,[\n",
    "[0,2,2124,121,3,1],\n",
    "[0,0,2,2,442,5],\n",
    "[0,0,0,2234,8,5],\n",
    "[0,0,0,0,9,3],\n",
    "[0,0,0,0,0,0],\n",
    "[0,0,0,0,0,0]\n",
    "])\n",
    "A=A+A^0"
   ]
  },
  {
   "cell_type": "code",
   "execution_count": 106,
   "metadata": {},
   "outputs": [],
   "source": [
    "n=12\n",
    "L1=(1/(n-1))*matrix(QQ,[[n,1],[-1,n-2]])\n",
    "L2=matrix(QQ,[[0,-1],[1,2]])"
   ]
  },
  {
   "cell_type": "code",
   "execution_count": 108,
   "metadata": {},
   "outputs": [
    {
     "data": {
      "text/plain": [
       "[-1 -1]\n",
       "[ 1  1]"
      ]
     },
     "execution_count": 108,
     "metadata": {},
     "output_type": "execute_result"
    }
   ],
   "source": [
    "log(L2)"
   ]
  },
  {
   "cell_type": "code",
   "execution_count": 109,
   "metadata": {},
   "outputs": [
    {
     "data": {
      "text/plain": [
       "[ 1/11  1/11]\n",
       "[-1/11 -1/11]"
      ]
     },
     "execution_count": 109,
     "metadata": {},
     "output_type": "execute_result"
    }
   ],
   "source": [
    "log(L1)"
   ]
  },
  {
   "cell_type": "code",
   "execution_count": 44,
   "metadata": {},
   "outputs": [
    {
     "name": "stdout",
     "output_type": "stream",
     "text": [
      "0\n",
      "1\n",
      "2\n",
      "3\n",
      "4\n",
      "5\n",
      "6\n",
      "7\n"
     ]
    }
   ],
   "source": [
    "for i in range(8):\n",
    "    print(i)"
   ]
  },
  {
   "cell_type": "code",
   "execution_count": null,
   "metadata": {},
   "outputs": [],
   "source": []
  }
 ],
 "metadata": {
  "kernelspec": {
   "display_name": "SageMath 9.3",
   "language": "sage",
   "name": "sagemath"
  },
  "language_info": {
   "codemirror_mode": {
    "name": "ipython",
    "version": 3
   },
   "file_extension": ".py",
   "mimetype": "text/x-python",
   "name": "python",
   "nbconvert_exporter": "python",
   "pygments_lexer": "ipython3",
   "version": "3.7.10"
  }
 },
 "nbformat": 4,
 "nbformat_minor": 4
}
