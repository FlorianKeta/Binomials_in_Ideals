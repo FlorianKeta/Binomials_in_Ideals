{
 "cells": [
  {
   "cell_type": "code",
   "execution_count": 43,
   "id": "0348cb2d",
   "metadata": {},
   "outputs": [],
   "source": [
    "#Rings\n",
    "R.<x>=QQ[]\n",
    "R2.<x,y>=QQ[]\n",
    "R3.<x,y,z>=QQ[]\n",
    "R4.<x,y,z,w>=QQ[]"
   ]
  },
  {
   "cell_type": "code",
   "execution_count": null,
   "id": "eb3b0715",
   "metadata": {},
   "outputs": [],
   "source": []
  },
  {
   "cell_type": "code",
   "execution_count": 44,
   "id": "5aacb33c",
   "metadata": {},
   "outputs": [
    {
     "data": {
      "text/plain": [
       "[x*y*z]"
      ]
     },
     "execution_count": 44,
     "metadata": {},
     "output_type": "execute_result"
    }
   ],
   "source": [
    "#Input:  Ideal I in n variables\n",
    "#Output: Mon(I)=⟨ m∈ I | m is a monomial ⟩\n",
    "\n",
    "I=ideal(R3,[x^3+y^3+z^3,x+y+z])\n",
    "Mon(I)"
   ]
  },
  {
   "cell_type": "code",
   "execution_count": 45,
   "id": "99989f85",
   "metadata": {},
   "outputs": [
    {
     "name": "stdout",
     "output_type": "stream",
     "text": [
      "[x^13 - y*z^12]\n",
      "[x^3*y + 5*z^3, z^4 - 1/5*x^2, x*y*z + 1]\n"
     ]
    }
   ],
   "source": [
    "#Input:   Ideal I in n≤3 variables, t ∈ N  \n",
    "#Output:  Bin(I_{≤t})=⟨ b∈ I_{≤t} | b is a binomial ⟩\n",
    "\n",
    "I1=ideal(R3,[(x-z)^2,13*x-y-(12)*z])\n",
    "I2=ideal(R3,[z^2+z-1,5*y+4*z+7,x-3*z+1])\n",
    "print(Bin(I1,20))\n",
    "print(Bin(I2,20))                              "
   ]
  },
  {
   "cell_type": "code",
   "execution_count": 46,
   "id": "4b139e4d",
   "metadata": {},
   "outputs": [
    {
     "data": {
      "text/plain": [
       "x^120 - 1"
      ]
     },
     "execution_count": 46,
     "metadata": {},
     "output_type": "execute_result"
    }
   ],
   "source": [
    "#Input:   f∈ Q[x], t ∈ N\n",
    "#Output:  One binomial in ⟨f⟩_{≤t} or 0 if there is none\n",
    "\n",
    "f=R(cyclotomic_polynomial(8)*cyclotomic_polynomial(3)*cyclotomic_polynomial(5))\n",
    "BinUnivariate(f,1000)"
   ]
  },
  {
   "cell_type": "code",
   "execution_count": 47,
   "id": "b1b0333d",
   "metadata": {},
   "outputs": [
    {
     "name": "stdout",
     "output_type": "stream",
     "text": [
      "x^24 + 63*x^12 - 64\n",
      "x^9 - 76*x - 96\n",
      "x^8 + 3*x^3 - 1\n"
     ]
    }
   ],
   "source": [
    "#Input:   f∈ Q[x], t ∈ N\n",
    "#Output:  One trinomial in ⟨f⟩_{≤t} or 0 if there is none\n",
    "\n",
    "print(Trinomial(R(x^4-x^3+x^2+2),1000))\n",
    "print(Trinomial(R(x^4-2*x^2+4*x+6),1000))\n",
    "print(Trinomial(R(x^5-x^3+x^2+x+1),1000))"
   ]
  },
  {
   "cell_type": "code",
   "execution_count": 48,
   "id": "b53b0ec9",
   "metadata": {},
   "outputs": [
    {
     "data": {
      "text/plain": [
       "[a - 3*c + 1, b + 4/5*c + 7/5, c^2 + c - 1]"
      ]
     },
     "execution_count": 48,
     "metadata": {},
     "output_type": "execute_result"
    }
   ],
   "source": [
    "#Input:   Ideal I,  L a basis of a lattice ⊆ Z^k\n",
    "#Output:  Ideal J = I ∩ Q[L]\n",
    "\n",
    "I=ideal(R4,[5*y^2*z^2+15*y*z-1,15*y*z^3+40*z^2+7*x,20*y^4*z+65*y^3+7*w])\n",
    "L=[[1,0,-2,0],[0,3,0,-1],[0,2,-1,-1]]\n",
    "getJ(I,L)"
   ]
  },
  {
   "cell_type": "code",
   "execution_count": null,
   "id": "023f0ce6",
   "metadata": {},
   "outputs": [],
   "source": []
  },
  {
   "cell_type": "code",
   "execution_count": null,
   "id": "848bd77a",
   "metadata": {},
   "outputs": [],
   "source": []
  },
  {
   "cell_type": "code",
   "execution_count": 49,
   "id": "2fecb2b5",
   "metadata": {},
   "outputs": [],
   "source": [
    "#Input:  Ideal I in n variables\n",
    "#Output: Mon(I)=⟨ m∈ I | m is a monomial ⟩\n",
    "def Mon(I):\n",
    "    I=I.groebner_basis()\n",
    "    R=I.ring()\n",
    "    a=R.gens()\n",
    "    n=R.ngens()\n",
    "    Rbig=PolynomialRing(QQ,[('t'+str(k))  for k in range(n)]+list(a),order='lex')   \n",
    "    m=Rbig(1)\n",
    "    for k in range(n):\n",
    "        m*=Rbig('t'+str(k))\n",
    "    GB_big=[m-1]\n",
    "    for f in I:\n",
    "        f=Rbig(f)\n",
    "        for k in range(n):\n",
    "            f=f.subs({Rbig(a[k]):Rbig(a[k])*Rbig('t'+str(k))})\n",
    "        GB_big+=[f]\n",
    "    MonI=[]\n",
    "    GB_sol=ideal(Rbig,GB_big).groebner_basis()\n",
    "    for g in GB_sol:\n",
    "        if g.lm() < Rbig(\"t0\") and g.lt()==g:\n",
    "            MonI+=[g]\n",
    "    return Ideal(R,MonI).groebner_basis()\n",
    "\n",
    "\n",
    "\n",
    "#Input:   Ideal I in n≤3 variables, t ∈ N     \n",
    "#Output:  Bin(I_{≤t})=⟨ b∈ I_{≤t} | b is a binomial ⟩\n",
    "def Bin(I,t):\n",
    "    R=I.ring()\n",
    "    n=R.ngens()\n",
    "    if(n==1):\n",
    "           return Bin(I[0],t)\n",
    "    a=I.ring().gens()\n",
    "    I=I.groebner_basis()\n",
    "    P=[]\n",
    "    if(n==2):\n",
    "        IIh=[]\n",
    "        L=LaurentPolynomialRing(QQ,a)\n",
    "        for f in I:\n",
    "            IIh+=[(f.subs({a[1] : a[1]^-1})/a[0])  .numerator()]\n",
    "        II=ideal(R,ideal(L,IIh).groebner_basis() ).groebner_basis()\n",
    "        for i in range(0,t+1):\n",
    "            for j in range(0,t+1):\n",
    "                if(not i==j==0):\n",
    "                    XP=R(a[0]^i*a[1]^j)\n",
    "                    if (XP).reduce(I) in QQ:\n",
    "                        P+=[XP - (XP).reduce(I) ]\n",
    "                    if (XP).reduce(II) in QQ:\n",
    "                        P+=[R(a[0]^i) - a[1]^j*(XP).reduce(II)]\n",
    "    if(n==3):\n",
    "        L=LaurentPolynomialRing(QQ,a)\n",
    "        II=[]\n",
    "        for k in range(3):\n",
    "            IIh=[]\n",
    "            for f in I:\n",
    "                IIh+=[(f.subs({a[k] : a[k]^-1})/a[0] )  .numerator()] \n",
    "            II.append(ideal(R,ideal(L,IIh).groebner_basis() ).groebner_basis())\n",
    "        for i in range(0,t+1):\n",
    "            for j in range(0,t+1):\n",
    "                for s in range(0,t+1):  \n",
    "                    if(not i==j==s==0 ):\n",
    "                        X=[R(a[0]^i),R(a[1]^j),R(a[2]^s)]; XP=R(X[0]*X[1]*X[2])\n",
    "                        if (XP).reduce(I) in QQ:\n",
    "                            P+=[ XP - XP.reduce(I) ]\n",
    "                        for k in range(3):       \n",
    "                            if (XP).reduce(II[k]) in QQ:\n",
    "                                P+=[X[(k+1)%3]*X[(k+2)%3] - X[k]*(XP).reduce(II[k])]\n",
    "    return ideal(R,P).groebner_basis()\n",
    "\n",
    "\n",
    "\n",
    "#Input:   f∈ Q[x], t ∈ N\n",
    "#Output:  One binomial in ⟨f⟩_{≤t} or 0 if there is none\n",
    "def BinUnivariate(f,t):\n",
    "    R.<x>=QQ[]\n",
    "    for i in range(1,t+1):\n",
    "        if R(x^i).mod(f) in QQ:\n",
    "            return R(x^i)-R(x^i).mod(f)\n",
    "    return 0\n",
    "\n",
    "\n",
    "\n",
    "#Input:   f∈ Q[x], t ∈ N\n",
    "#Output:  One trinomial in ⟨f⟩_{≤t} or 0 if there is none\n",
    "def Trinomial(f,t):\n",
    "    R.<x>=QQ[]\n",
    "    f=R(f)\n",
    "    if(not BinUnivariate(f,t)==0):\n",
    "         return BinUnivariate(f,t)^2\n",
    "    n=f.degree()\n",
    "    S=dict()\n",
    "    g=R(1)\n",
    "    for i in range(1,t):\n",
    "        g=(g*x).mod(f)\n",
    "        if g in QQ:\n",
    "            return BinUnivariate(f)\n",
    "        h=(g-g.constant_coefficient())/g.lc()\n",
    "        if h not in S:\n",
    "            S[h]=[i,g.lc()]\n",
    "        else:\n",
    "            s= x^i-(g.lc()/S[h][1])*x^S[h][0]\n",
    "            ss=s-s.mod(f)\n",
    "            return ss \n",
    "    return 0\n",
    "\n",
    "\n",
    "\n",
    "#Input:   Ideal I,  L a basis of a lattice ⊆ Z^k\n",
    "#Output:  Ideal J = I ∩ Q[L]\n",
    "def getJ(I,L):\n",
    "    I=I.groebner_basis()\n",
    "    R=I.ring()\n",
    "    A=R.gens()\n",
    "    n=R.ngens()\n",
    "    d=len(L)\n",
    "    char=['a','b','c','d','e','f','g'][:d]\n",
    "    LR=LaurentPolynomialRing(QQ,list(A)+char,order='lex') \n",
    "    Rbig=PolynomialRing(QQ,list(A)+char,order='lex') \n",
    "    Rnew=PolynomialRing(QQ,char,order='lex') \n",
    "    MakeJ=list(I.groebner_basis())\n",
    "    for v in range(d):\n",
    "        mon=LR(1)\n",
    "        for e in range(n):\n",
    "            mon*=( LR(A[e])^(L[v][e]) )\n",
    "        MakeJ+=[LR(char[v])- mon]\n",
    "    GB=ideal(LR,MakeJ).groebner_basis()\n",
    "    genJ=[]\n",
    "    for g in GB:\n",
    "        if Rbig(g).lm()< LR(A[n-1]):\n",
    "            genJ+=[Rnew(g)]\n",
    "    return ideal(Rnew,genJ).groebner_basis()"
   ]
  },
  {
   "cell_type": "code",
   "execution_count": 2,
   "id": "8f5fa056",
   "metadata": {},
   "outputs": [],
   "source": [
    "#Helpful: J,C=A.jordan_form(subdivide=False,transformation=True)\n",
    "#Helpful: K.<q,i>=NumberField([x^2-5,x^2+1])\n",
    "#Helpful: I.groebner_fan().reduced_groebner_bases()"
   ]
  },
  {
   "cell_type": "code",
   "execution_count": null,
   "id": "98cf29fd",
   "metadata": {},
   "outputs": [],
   "source": []
  }
 ],
 "metadata": {
  "kernelspec": {
   "display_name": "SageMath 9.5",
   "language": "sage",
   "name": "sagemath"
  },
  "language_info": {
   "codemirror_mode": {
    "name": "ipython",
    "version": 3
   },
   "file_extension": ".py",
   "mimetype": "text/x-python",
   "name": "python",
   "nbconvert_exporter": "python",
   "pygments_lexer": "ipython3",
   "version": "3.10.6"
  }
 },
 "nbformat": 4,
 "nbformat_minor": 5
}
