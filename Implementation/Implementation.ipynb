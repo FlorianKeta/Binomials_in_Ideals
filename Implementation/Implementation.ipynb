{
 "cells": [
  {
   "cell_type": "code",
   "execution_count": 2,
   "metadata": {},
   "outputs": [],
   "source": [
    "n=6\n",
    "S.<x,y,z,w>=PolynomialRing(QQ,4, order=\"lex\")\n",
    "I=ideal(S,[x-y^2,y-y^3,z-y^5])"
   ]
  },
  {
   "cell_type": "code",
   "execution_count": 3,
   "metadata": {},
   "outputs": [],
   "source": [
    "#Polynom in x,y,z,w\n",
    "def monomials(I):\n",
    "    S=I.groebner_basis()\n",
    "    Rx.<x,y,z,w>=PolynomialRing(QQ,4,order=\"lex\")\n",
    "    Rax.<a,b,c,d,X,Y,Z,W>=PolynomialRing(QQ,8,order=\"lex\")\n",
    "    T=[a*b*c*d-1]\n",
    "    for s in S:\n",
    "        f=Rx(s)\n",
    "        T=T+[f(X*a,Y*b,Z*c,W*d)]\n",
    "    B=ideal(Rax,T).groebner_basis()\n",
    "    L=[]\n",
    "    for b in B:\n",
    "        if b.lm()==b:\n",
    "            L=L+[Rx(b(0,0,0,0,x,y,z,w))]\n",
    "    return L"
   ]
  },
  {
   "cell_type": "code",
   "execution_count": 93,
   "metadata": {
    "scrolled": true
   },
   "outputs": [],
   "source": [
    "#Binomials in x,y,z,w of degree<=t\n",
    "import numpy as np\n",
    "def Binomials(I,t):\n",
    "    n=I.ring().ngens()\n",
    "    Rold=I.ring()\n",
    "    R.<x,y,z,w> = PolynomialRing(QQ,4,order=\"deglex\")\n",
    "    if(n>1):\n",
    "        I=I.change_ring(R).groebner_basis()\n",
    "    else:\n",
    "        I=I.groebner_basis()\n",
    "    p=[]\n",
    "    if(n==4):\n",
    "        for f in I:\n",
    "            v=f.degree()\n",
    "            for a in range(t-v+1):\n",
    "                for b in range(t-v-a+1):\n",
    "                    for c in range(t-v-a-b+1):\n",
    "                        for d in range(t-v-a-b-c+1):\n",
    "                            p.append(f*x^a*y^b*z^c*w^d)\n",
    "    elif(n==3):\n",
    "        for f in I:\n",
    "            v=f.degree()\n",
    "            for a in range(t-v+1):\n",
    "                for b in range(t-v-a+1):\n",
    "                    for c in range(t-v-a-b+1):\n",
    "                        p.append(f*x^a*y^b*z^c)\n",
    "    elif(n==2):\n",
    "        for f in I:\n",
    "            v=f.degree()\n",
    "            for a in range(t-v+1):\n",
    "                for b in range(t-v-a+1):\n",
    "                        p.append(f*x^a*y^b)\n",
    "    elif(n==1):\n",
    "        for f in I:\n",
    "            for a in range(t-f.degree()+1):\n",
    "                        p.append(f*x^a)              \n",
    "                    \n",
    "    A=Sequence(p).coefficient_matrix()\n",
    "    M=Matroid(A[0].right_kernel().basis_matrix()).circuits()\n",
    "    X=[]\n",
    "    for c in M:\n",
    "        if len(c)==2:\n",
    "            x=list(c)\n",
    "            m=R(A[1][x[0]])\n",
    "            n=R(A[1][x[1]])\n",
    "            if m>n:\n",
    "                m,n=n,m\n",
    "            X.append(n-m*(n.reduce(I)/m.reduce(I)))\n",
    "    I=ideal(R,ideal(R,X).groebner_basis()).change_ring(Rold)\n",
    "    return I"
   ]
  },
  {
   "cell_type": "code",
   "execution_count": 5,
   "metadata": {
    "scrolled": true
   },
   "outputs": [],
   "source": [
    "#Examples\n",
    "S2.<x,y>=PolynomialRing(QQ,2, order=\"lex\")\n",
    "S3.<x,y,z>=PolynomialRing(QQ,3, order=\"lex\")\n",
    "T.<a,b>=PolynomialRing(QQ,2, order=\"lex\")\n",
    "I1n=[ideal(S2,[y-fibonacci(n)*x-fibonacci(n-1),x*x-x-1]) for n in range(20)]\n",
    "I2n=[ideal(S3,[(x-z)^2,n*x-y-(n-1)*z]) for n in range(20)]\n",
    "E1=ideal(S2,[x^3+2*x^2+2*x+1])\n",
    "L=ideal(S2,[y-3*x-2,x*x-x-1])"
   ]
  },
  {
   "cell_type": "code",
   "execution_count": 6,
   "metadata": {},
   "outputs": [
    {
     "name": "stdout",
     "output_type": "stream",
     "text": [
      "[x^3, x^2*y^2, x^2*z^2, x*y*z, y^3, y^2*z^2, z^3]\n",
      "Ideal (x^5 - y) of Multivariate Polynomial Ring in x, y over Rational Field\n"
     ]
    }
   ],
   "source": [
    "R.<x,y,z,w>=PolynomialRing(QQ,4,order=\"deglex\")\n",
    "S.<x,y,z,w>=PolynomialRing(QQ,4,order=\"lex\")\n",
    "I=ideal(R,[x+y+z,x*y+y*z+x*z,x*y*z])\n",
    "print(monomials(I))\n",
    "print(Binomials(I1n[5],7,2))"
   ]
  },
  {
   "cell_type": "code",
   "execution_count": 7,
   "metadata": {},
   "outputs": [
    {
     "data": {
      "text/plain": [
       "[x - 1/3*y + 2/3, y^2 - 7*y + 1]"
      ]
     },
     "execution_count": 7,
     "metadata": {},
     "output_type": "execute_result"
    }
   ],
   "source": [
    "#Universal Groebner basis and stuff\n",
    "L.groebner_fan().reduced_groebner_bases()\n",
    "L.groebner_basis()\n",
    "#L.groebner_fan().tropical_basis()"
   ]
  },
  {
   "cell_type": "code",
   "execution_count": 8,
   "metadata": {},
   "outputs": [],
   "source": [
    "#Krull dimension to test Artinianity\n",
    "from sage import *\n",
    "A.<x,y,z,w>=PolynomialRing(QQ,4, order=\"lex\")\n",
    "I=ideal(A,[x*x-y,y*z*y-1])\n",
    "T=QuotientRing(A,I)\n",
    "#T.krull_dimension()\n",
    "#I.gen()"
   ]
  },
  {
   "cell_type": "code",
   "execution_count": null,
   "metadata": {},
   "outputs": [],
   "source": []
  },
  {
   "cell_type": "code",
   "execution_count": 17,
   "metadata": {},
   "outputs": [
    {
     "ename": "TypeError",
     "evalue": "x must have length self.ngens()",
     "output_type": "error",
     "traceback": [
      "\u001b[0;31m---------------------------------------------------------------------------\u001b[0m",
      "\u001b[0;31mTypeError\u001b[0m                                 Traceback (most recent call last)",
      "\u001b[0;32m<ipython-input-17-d7d3d08a6048>\u001b[0m in \u001b[0;36m<module>\u001b[0;34m\u001b[0m\n\u001b[1;32m      2\u001b[0m \u001b[0mn\u001b[0m\u001b[0;34m=\u001b[0m\u001b[0mInteger\u001b[0m\u001b[0;34m(\u001b[0m\u001b[0;36m5\u001b[0m\u001b[0;34m)\u001b[0m\u001b[0;34m\u001b[0m\u001b[0;34m\u001b[0m\u001b[0m\n\u001b[1;32m      3\u001b[0m \u001b[0mR\u001b[0m\u001b[0;34m=\u001b[0m \u001b[0mPolynomialRing\u001b[0m\u001b[0;34m(\u001b[0m\u001b[0mQQ\u001b[0m\u001b[0;34m,\u001b[0m\u001b[0;34m'x'\u001b[0m\u001b[0;34m,\u001b[0m\u001b[0mn\u001b[0m\u001b[0;34m,\u001b[0m\u001b[0morder\u001b[0m\u001b[0;34m=\u001b[0m\u001b[0;34m\"deglex\"\u001b[0m\u001b[0;34m)\u001b[0m\u001b[0;34m\u001b[0m\u001b[0;34m\u001b[0m\u001b[0m\n\u001b[0;32m----> 4\u001b[0;31m \u001b[0mI\u001b[0m\u001b[0;34m=\u001b[0m\u001b[0mideal\u001b[0m\u001b[0;34m(\u001b[0m\u001b[0mR\u001b[0m\u001b[0;34m,\u001b[0m\u001b[0;34m[\u001b[0m\u001b[0mx\u001b[0m\u001b[0;34m[\u001b[0m\u001b[0mInteger\u001b[0m\u001b[0;34m(\u001b[0m\u001b[0;36m1\u001b[0m\u001b[0;34m)\u001b[0m\u001b[0;34m]\u001b[0m\u001b[0;34m*\u001b[0m\u001b[0mx\u001b[0m\u001b[0;34m[\u001b[0m\u001b[0mInteger\u001b[0m\u001b[0;34m(\u001b[0m\u001b[0;36m2\u001b[0m\u001b[0;34m)\u001b[0m\u001b[0;34m]\u001b[0m\u001b[0;34m-\u001b[0m\u001b[0mx\u001b[0m\u001b[0;34m[\u001b[0m\u001b[0mInteger\u001b[0m\u001b[0;34m(\u001b[0m\u001b[0;36m3\u001b[0m\u001b[0;34m)\u001b[0m\u001b[0;34m]\u001b[0m\u001b[0;34m**\u001b[0m\u001b[0mInteger\u001b[0m\u001b[0;34m(\u001b[0m\u001b[0;36m2\u001b[0m\u001b[0;34m)\u001b[0m\u001b[0;34m]\u001b[0m\u001b[0;34m,\u001b[0m\u001b[0mx\u001b[0m\u001b[0;34m[\u001b[0m\u001b[0mInteger\u001b[0m\u001b[0;34m(\u001b[0m\u001b[0;36m3\u001b[0m\u001b[0;34m)\u001b[0m\u001b[0;34m]\u001b[0m\u001b[0;34m*\u001b[0m\u001b[0mx\u001b[0m\u001b[0;34m[\u001b[0m\u001b[0mInteger\u001b[0m\u001b[0;34m(\u001b[0m\u001b[0;36m1\u001b[0m\u001b[0;34m)\u001b[0m\u001b[0;34m]\u001b[0m\u001b[0;34m+\u001b[0m\u001b[0mInteger\u001b[0m\u001b[0;34m(\u001b[0m\u001b[0;36m2\u001b[0m\u001b[0;34m)\u001b[0m\u001b[0;34m)\u001b[0m\u001b[0;34m\u001b[0m\u001b[0;34m\u001b[0m\u001b[0m\n\u001b[0m\u001b[1;32m      5\u001b[0m \u001b[0mx\u001b[0m\u001b[0;34m=\u001b[0m\u001b[0mR\u001b[0m\u001b[0;34m.\u001b[0m\u001b[0mgens\u001b[0m\u001b[0;34m(\u001b[0m\u001b[0;34m)\u001b[0m\u001b[0;34m\u001b[0m\u001b[0;34m\u001b[0m\u001b[0m\n\u001b[1;32m      6\u001b[0m  \u001b[0;31m#(dimesion of T(I)^|)\u001b[0m\u001b[0;34m\u001b[0m\u001b[0;34m\u001b[0m\u001b[0;34m\u001b[0m\u001b[0m\n",
      "\u001b[0;32m/opt/sagemath-9.3/local/lib/python3.7/site-packages/sage/rings/polynomial/multi_polynomial_libsingular.pyx\u001b[0m in \u001b[0;36msage.rings.polynomial.multi_polynomial_libsingular.MPolynomial_libsingular.__getitem__ (build/cythonized/sage/rings/polynomial/multi_polynomial_libsingular.cpp:27124)\u001b[0;34m()\u001b[0m\n\u001b[1;32m   3141\u001b[0m \u001b[0;34m\u001b[0m\u001b[0m\n\u001b[1;32m   3142\u001b[0m         \u001b[0;32mif\u001b[0m \u001b[0mlen\u001b[0m\u001b[0;34m(\u001b[0m\u001b[0mx\u001b[0m\u001b[0;34m)\u001b[0m \u001b[0;34m!=\u001b[0m \u001b[0mself\u001b[0m\u001b[0;34m.\u001b[0m\u001b[0m_parent\u001b[0m\u001b[0;34m.\u001b[0m\u001b[0mngens\u001b[0m\u001b[0;34m(\u001b[0m\u001b[0;34m)\u001b[0m\u001b[0;34m:\u001b[0m\u001b[0;34m\u001b[0m\u001b[0;34m\u001b[0m\u001b[0m\n\u001b[0;32m-> 3143\u001b[0;31m             \u001b[0;32mraise\u001b[0m \u001b[0mTypeError\u001b[0m\u001b[0;34m(\u001b[0m\u001b[0;34m\"x must have length self.ngens()\"\u001b[0m\u001b[0;34m)\u001b[0m\u001b[0;34m\u001b[0m\u001b[0;34m\u001b[0m\u001b[0m\n\u001b[0m\u001b[1;32m   3144\u001b[0m \u001b[0;34m\u001b[0m\u001b[0m\n\u001b[1;32m   3145\u001b[0m         \u001b[0mm\u001b[0m \u001b[0;34m=\u001b[0m \u001b[0mp_ISet\u001b[0m\u001b[0;34m(\u001b[0m\u001b[0;36m1\u001b[0m\u001b[0;34m,\u001b[0m\u001b[0mr\u001b[0m\u001b[0;34m)\u001b[0m\u001b[0;34m\u001b[0m\u001b[0;34m\u001b[0m\u001b[0m\n",
      "\u001b[0;31mTypeError\u001b[0m: x must have length self.ngens()"
     ]
    }
   ],
   "source": [
    "#Finding K[T(I)^| & Z^n]&I\n",
    "n=5\n",
    "R= PolynomialRing(QQ,'x',n,order=\"deglex\")  \n",
    "I=ideal(R,[x[1]*x[2]-x[3]^2],x[3]*x[1]+2)\n",
    "x=R.gens()\n",
    " #(dimesion of T(I)^|)\n",
    "\n",
    "\n",
    "#S= PolynomialRing(QQ,'y',d,order=\"deglex\")  \n",
    "#y= R.gens()\n",
    "#RS=PolynomialRing(QQ,'z',n+d,order=\"lex\")  \n",
    "#z=RS.gens()\n",
    "#B=I\n",
    "#for i in range(d):\n",
    "    #B=B+[x^vector[T[i]]-x[n+i]]\n",
    "#J=ideal(RS,I)\n",
    "#G=J.groebner_basis"
   ]
  },
  {
   "cell_type": "code",
   "execution_count": null,
   "metadata": {},
   "outputs": [],
   "source": [
    "#Tropical Variety\n",
    "R.<x,y>=PolynomialRing(QQ, order=\"deglex\")\n",
    "I=ideal(R,[x^3*y+1,x^2*y+1])\n",
    "g=I.groebner_fan().tropical_intersection()\n",
    "g"
   ]
  },
  {
   "cell_type": "code",
   "execution_count": 10,
   "metadata": {
    "scrolled": true
   },
   "outputs": [
    {
     "data": {
      "text/plain": [
       "{1: [[]]}"
      ]
     },
     "execution_count": 10,
     "metadata": {},
     "output_type": "execute_result"
    }
   ],
   "source": [
    "#Tropical Variety\n",
    "R.<x,y,z>=PolynomialRing(QQ,order=\"deglex\")\n",
    "I=ideal(R,[x^3*y*z+1,x^2+3])\n",
    "g=I.groebner_fan()\n",
    "t=g.tropical_intersection()\n",
    "t.rays()\n",
    "t.maximal_cones()"
   ]
  },
  {
   "cell_type": "code",
   "execution_count": null,
   "metadata": {},
   "outputs": [],
   "source": []
  },
  {
   "cell_type": "code",
   "execution_count": null,
   "metadata": {},
   "outputs": [],
   "source": []
  },
  {
   "cell_type": "code",
   "execution_count": 11,
   "metadata": {},
   "outputs": [],
   "source": [
    "R.<x,y,z> = QQ[]\n",
    "f = 1+x\n",
    "I = R.ideal([x^3*y*z+1,x*y^2+z])\n",
    "GF = I.groebner_fan()\n",
    "PF = GF.tropical_intersection()\n",
    "#fan = PF.to_RationalPolyhedralFan()"
   ]
  },
  {
   "cell_type": "code",
   "execution_count": null,
   "metadata": {},
   "outputs": [],
   "source": []
  },
  {
   "cell_type": "code",
   "execution_count": 232,
   "metadata": {},
   "outputs": [
    {
     "data": {
      "text/plain": [
       "Polyhedral fan in 3 dimensions of dimension 2"
      ]
     },
     "execution_count": 232,
     "metadata": {},
     "output_type": "execute_result"
    }
   ],
   "source": [
    "#Tropical Variety\n",
    "R.<x,y,z>=PolynomialRing(QQ,order=\"deglex\")\n",
    "I=ideal(R,[x^5*y^6*z+1+x])\n",
    "g=I.groebner_fan()\n",
    "t=g.tropical_intersection()\n",
    "t"
   ]
  },
  {
   "cell_type": "code",
   "execution_count": null,
   "metadata": {},
   "outputs": [],
   "source": []
  },
  {
   "cell_type": "code",
   "execution_count": 38,
   "metadata": {},
   "outputs": [],
   "source": [
    "R.<x,y>=PolynomialRing(QQ, order=\"deglex\")\n",
    "S.<x,y,z>=PolynomialRing(QQ, order=\"deglex\")"
   ]
  },
  {
   "cell_type": "code",
   "execution_count": 62,
   "metadata": {},
   "outputs": [
    {
     "data": {
      "text/plain": [
       "[]"
      ]
     },
     "execution_count": 62,
     "metadata": {},
     "output_type": "execute_result"
    }
   ],
   "source": [
    "Tr(ideal(S,[x^3*y+1]))"
   ]
  },
  {
   "cell_type": "code",
   "execution_count": 233,
   "metadata": {},
   "outputs": [],
   "source": [
    "#Tropical Variety\n",
    "R.<x,y>=PolynomialRing(QQ,order=\"deglex\")\n",
    "I=ideal(R,[x*y+y])\n",
    "g=I.groebner_fan()\n",
    "t=g.tropical_intersection()\n",
    "t?"
   ]
  },
  {
   "cell_type": "code",
   "execution_count": 246,
   "metadata": {},
   "outputs": [
    {
     "data": {
      "text/plain": [
       "[[-1, -1, 0], [0, 0, -1], [1, 1, 4]]"
      ]
     },
     "execution_count": 246,
     "metadata": {},
     "output_type": "execute_result"
    }
   ],
   "source": [
    "R.<x,y,z>=PolynomialRing(QQ,order=\"deglex\")\n",
    "I=ideal(R,[x*x*y*y+z+1]).groebner_fan().tropical_intersection()\n",
    "I.rays()"
   ]
  },
  {
   "cell_type": "code",
   "execution_count": 31,
   "metadata": {},
   "outputs": [
    {
     "data": {
      "text/plain": [
       "Ideal (x^2 - 2*x*z + z^2, 3*x - y - 2*z) of Multivariate Polynomial Ring in x, y, z over Rational Field"
      ]
     },
     "execution_count": 31,
     "metadata": {},
     "output_type": "execute_result"
    }
   ],
   "source": [
    "I"
   ]
  },
  {
   "cell_type": "code",
   "execution_count": 38,
   "metadata": {},
   "outputs": [
    {
     "ename": "AttributeError",
     "evalue": "'MPolynomialIdeal' object has no attribute 'gfan_tropicalbasis'",
     "output_type": "error",
     "traceback": [
      "\u001b[0;31m---------------------------------------------------------------------------\u001b[0m",
      "\u001b[0;31mAttributeError\u001b[0m                            Traceback (most recent call last)",
      "\u001b[0;32m<ipython-input-38-c590874909b6>\u001b[0m in \u001b[0;36m<module>\u001b[0;34m\u001b[0m\n\u001b[1;32m      1\u001b[0m \u001b[0;31m#Full example\u001b[0m\u001b[0;34m\u001b[0m\u001b[0;34m\u001b[0m\u001b[0;34m\u001b[0m\u001b[0m\n\u001b[1;32m      2\u001b[0m \u001b[0mI\u001b[0m\u001b[0;34m=\u001b[0m\u001b[0mI2n\u001b[0m\u001b[0;34m[\u001b[0m\u001b[0mInteger\u001b[0m\u001b[0;34m(\u001b[0m\u001b[0;36m3\u001b[0m\u001b[0;34m)\u001b[0m\u001b[0;34m]\u001b[0m\u001b[0;34m\u001b[0m\u001b[0;34m\u001b[0m\u001b[0m\n\u001b[0;32m----> 3\u001b[0;31m \u001b[0mI\u001b[0m\u001b[0;34m.\u001b[0m\u001b[0mgfan_tropicalbasis\u001b[0m\u001b[0;34m(\u001b[0m\u001b[0;34m)\u001b[0m\u001b[0;34m\u001b[0m\u001b[0;34m\u001b[0m\u001b[0m\n\u001b[0m",
      "\u001b[0;32m/opt/sagemath-9.3/local/lib/python3.7/site-packages/sage/structure/element.pyx\u001b[0m in \u001b[0;36msage.structure.element.Element.__getattr__ (build/cythonized/sage/structure/element.c:4709)\u001b[0;34m()\u001b[0m\n\u001b[1;32m    491\u001b[0m             \u001b[0mAttributeError\u001b[0m\u001b[0;34m:\u001b[0m \u001b[0;34m'LeftZeroSemigroup_with_category.element_class'\u001b[0m \u001b[0mobject\u001b[0m \u001b[0mhas\u001b[0m \u001b[0mno\u001b[0m \u001b[0mattribute\u001b[0m \u001b[0;34m'blah_blah'\u001b[0m\u001b[0;34m\u001b[0m\u001b[0;34m\u001b[0m\u001b[0m\n\u001b[1;32m    492\u001b[0m         \"\"\"\n\u001b[0;32m--> 493\u001b[0;31m         \u001b[0;32mreturn\u001b[0m \u001b[0mself\u001b[0m\u001b[0;34m.\u001b[0m\u001b[0mgetattr_from_category\u001b[0m\u001b[0;34m(\u001b[0m\u001b[0mname\u001b[0m\u001b[0;34m)\u001b[0m\u001b[0;34m\u001b[0m\u001b[0;34m\u001b[0m\u001b[0m\n\u001b[0m\u001b[1;32m    494\u001b[0m \u001b[0;34m\u001b[0m\u001b[0m\n\u001b[1;32m    495\u001b[0m     \u001b[0mcdef\u001b[0m \u001b[0mgetattr_from_category\u001b[0m\u001b[0;34m(\u001b[0m\u001b[0mself\u001b[0m\u001b[0;34m,\u001b[0m \u001b[0mname\u001b[0m\u001b[0;34m)\u001b[0m\u001b[0;34m:\u001b[0m\u001b[0;34m\u001b[0m\u001b[0;34m\u001b[0m\u001b[0m\n",
      "\u001b[0;32m/opt/sagemath-9.3/local/lib/python3.7/site-packages/sage/structure/element.pyx\u001b[0m in \u001b[0;36msage.structure.element.Element.getattr_from_category (build/cythonized/sage/structure/element.c:4821)\u001b[0;34m()\u001b[0m\n\u001b[1;32m    504\u001b[0m         \u001b[0;32melse\u001b[0m\u001b[0;34m:\u001b[0m\u001b[0;34m\u001b[0m\u001b[0;34m\u001b[0m\u001b[0m\n\u001b[1;32m    505\u001b[0m             \u001b[0mcls\u001b[0m \u001b[0;34m=\u001b[0m \u001b[0mP\u001b[0m\u001b[0;34m.\u001b[0m\u001b[0m_abstract_element_class\u001b[0m\u001b[0;34m\u001b[0m\u001b[0;34m\u001b[0m\u001b[0m\n\u001b[0;32m--> 506\u001b[0;31m         \u001b[0;32mreturn\u001b[0m \u001b[0mgetattr_from_other_class\u001b[0m\u001b[0;34m(\u001b[0m\u001b[0mself\u001b[0m\u001b[0;34m,\u001b[0m \u001b[0mcls\u001b[0m\u001b[0;34m,\u001b[0m \u001b[0mname\u001b[0m\u001b[0;34m)\u001b[0m\u001b[0;34m\u001b[0m\u001b[0;34m\u001b[0m\u001b[0m\n\u001b[0m\u001b[1;32m    507\u001b[0m \u001b[0;34m\u001b[0m\u001b[0m\n\u001b[1;32m    508\u001b[0m     \u001b[0;32mdef\u001b[0m \u001b[0m__dir__\u001b[0m\u001b[0;34m(\u001b[0m\u001b[0mself\u001b[0m\u001b[0;34m)\u001b[0m\u001b[0;34m:\u001b[0m\u001b[0;34m\u001b[0m\u001b[0;34m\u001b[0m\u001b[0m\n",
      "\u001b[0;32m/opt/sagemath-9.3/local/lib/python3.7/site-packages/sage/cpython/getattr.pyx\u001b[0m in \u001b[0;36msage.cpython.getattr.getattr_from_other_class (build/cythonized/sage/cpython/getattr.c:2618)\u001b[0;34m()\u001b[0m\n\u001b[1;32m    370\u001b[0m         \u001b[0mdummy_error_message\u001b[0m\u001b[0;34m.\u001b[0m\u001b[0mcls\u001b[0m \u001b[0;34m=\u001b[0m \u001b[0mtype\u001b[0m\u001b[0;34m(\u001b[0m\u001b[0mself\u001b[0m\u001b[0;34m)\u001b[0m\u001b[0;34m\u001b[0m\u001b[0;34m\u001b[0m\u001b[0m\n\u001b[1;32m    371\u001b[0m         \u001b[0mdummy_error_message\u001b[0m\u001b[0;34m.\u001b[0m\u001b[0mname\u001b[0m \u001b[0;34m=\u001b[0m \u001b[0mname\u001b[0m\u001b[0;34m\u001b[0m\u001b[0;34m\u001b[0m\u001b[0m\n\u001b[0;32m--> 372\u001b[0;31m         \u001b[0;32mraise\u001b[0m \u001b[0mAttributeError\u001b[0m\u001b[0;34m(\u001b[0m\u001b[0mdummy_error_message\u001b[0m\u001b[0;34m)\u001b[0m\u001b[0;34m\u001b[0m\u001b[0;34m\u001b[0m\u001b[0m\n\u001b[0m\u001b[1;32m    373\u001b[0m     \u001b[0mattribute\u001b[0m \u001b[0;34m=\u001b[0m \u001b[0;34m<\u001b[0m\u001b[0mobject\u001b[0m\u001b[0;34m>\u001b[0m\u001b[0mattr\u001b[0m\u001b[0;34m\u001b[0m\u001b[0;34m\u001b[0m\u001b[0m\n\u001b[1;32m    374\u001b[0m     \u001b[0;31m# Check for a descriptor (__get__ in Python)\u001b[0m\u001b[0;34m\u001b[0m\u001b[0;34m\u001b[0m\u001b[0;34m\u001b[0m\u001b[0m\n",
      "\u001b[0;31mAttributeError\u001b[0m: 'MPolynomialIdeal' object has no attribute 'gfan_tropicalbasis'"
     ]
    }
   ],
   "source": [
    "#Full example\n",
    "I=I2n[3]\n",
    "I.gfan_tropicalbasis()\n",
    "number_of_variables()"
   ]
  },
  {
   "cell_type": "code",
   "execution_count": 95,
   "metadata": {},
   "outputs": [
    {
     "data": {
      "text/plain": [
       "Ideal (x^2 - y*z) of Multivariate Polynomial Ring in x, y, z over Rational Field"
      ]
     },
     "execution_count": 95,
     "metadata": {},
     "output_type": "execute_result"
    }
   ],
   "source": [
    "Binomials(I2n[2],3)"
   ]
  },
  {
   "cell_type": "code",
   "execution_count": 100,
   "metadata": {},
   "outputs": [
    {
     "data": {
      "text/plain": [
       "Principal ideal (x^5 - 1) of Univariate Polynomial Ring in x over Rational Field"
      ]
     },
     "execution_count": 100,
     "metadata": {},
     "output_type": "execute_result"
    }
   ],
   "source": [
    "R.<x>=PolynomialRing(QQ, order=\"deglex\")\n",
    "Binomials(ideal(R,[x*x*x*x+x*x*x+x*x+x+1]),10)"
   ]
  },
  {
   "cell_type": "code",
   "execution_count": null,
   "metadata": {},
   "outputs": [],
   "source": []
  }
 ],
 "metadata": {
  "kernelspec": {
   "display_name": "SageMath 9.3",
   "language": "sage",
   "name": "sagemath"
  },
  "language_info": {
   "codemirror_mode": {
    "name": "ipython",
    "version": 3
   },
   "file_extension": ".py",
   "mimetype": "text/x-python",
   "name": "python",
   "nbconvert_exporter": "python",
   "pygments_lexer": "ipython3",
   "version": "3.7.10"
  }
 },
 "nbformat": 4,
 "nbformat_minor": 4
}
