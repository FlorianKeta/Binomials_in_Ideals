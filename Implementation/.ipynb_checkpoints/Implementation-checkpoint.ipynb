{
 "cells": [
  {
   "cell_type": "code",
   "execution_count": 1,
   "metadata": {},
   "outputs": [],
   "source": [
    "n=6\n",
    "S.<x,y,z,w>=PolynomialRing(QQ,4, order=\"lex\")\n",
    "I=ideal(S,[x-y^2,y-y^3,z-y^5])"
   ]
  },
  {
   "cell_type": "code",
   "execution_count": 2,
   "metadata": {},
   "outputs": [],
   "source": [
    "#Polynom in x,y,z,w\n",
    "def monomials(I):\n",
    "    S=I.groebner_basis()\n",
    "    Rx.<x,y,z,w>=PolynomialRing(QQ,4,order=\"lex\")\n",
    "    Rax.<a,b,c,d,X,Y,Z,W>=PolynomialRing(QQ,8,order=\"lex\")\n",
    "    T=[a*b*c*d-1]\n",
    "    for s in S:\n",
    "        f=Rx(s)\n",
    "        T=T+[f(X*a,Y*b,Z*c,W*d)]\n",
    "    B=ideal(Rax,T).groebner_basis()\n",
    "    L=[]\n",
    "    for b in B:\n",
    "        if b.lm()==b:\n",
    "            L=L+[Rx(b(0,0,0,0,x,y,z,w))]\n",
    "    return L"
   ]
  },
  {
   "cell_type": "code",
   "execution_count": 3,
   "metadata": {
    "scrolled": true
   },
   "outputs": [],
   "source": [
    "#Binomials in x,y,z,w of degree<=t\n",
    "import numpy as np\n",
    "def Binomials(I,t,n):\n",
    "    Rold=I.ring()\n",
    "    R.<x,y,z,w> = PolynomialRing(QQ,4,order=\"deglex\")   \n",
    "    J=I.change_ring(R).groebner_basis()\n",
    "    p=[]\n",
    "    if(n==4):\n",
    "        for f in J:\n",
    "            v=f.degree()\n",
    "            for a in range(t-v+1):\n",
    "                for b in range(t-v-a+1):\n",
    "                    for c in range(t-v-a-b+1):\n",
    "                        for d in range(t-v-a-b-c+1):\n",
    "                            p.append(f*x^a*y^b*z^c*w^d)\n",
    "    elif(n==3):\n",
    "        for f in J:\n",
    "            v=f.degree()\n",
    "            for a in range(t-v+1):\n",
    "                for b in range(t-v-a+1):\n",
    "                    for c in range(t-v-a-b+1):\n",
    "                        p.append(f*x^a*y^b*z^c)\n",
    "    elif(n==2):\n",
    "        for f in J:\n",
    "            v=f.degree()\n",
    "            for a in range(t-v+1):\n",
    "                for b in range(t-v-a+1):\n",
    "                        p.append(f*x^a*y^b)\n",
    "    elif(n==1):\n",
    "        for f in J:\n",
    "            for a in range(t-f.degree()+1):\n",
    "                        p.append(f*x^a)              \n",
    "                    \n",
    "    A=Sequence(p).coefficient_matrix()\n",
    "    M=Matroid(A[0].right_kernel().basis_matrix()).circuits()\n",
    "    X=[]\n",
    "    for c in M:\n",
    "        if len(c)==2:\n",
    "            x=list(c)\n",
    "            m=R(A[1][x[0]])\n",
    "            n=R(A[1][x[1]])\n",
    "            if m>n:\n",
    "                m,n=n,m\n",
    "            X.append(n-m*(n.reduce(J)/m.reduce(J)))\n",
    "    J=ideal(R,ideal(R,X).groebner_basis()).change_ring(Rold)\n",
    "    return J"
   ]
  },
  {
   "cell_type": "code",
   "execution_count": 4,
   "metadata": {
    "scrolled": true
   },
   "outputs": [
    {
     "data": {
      "text/plain": [
       "Ideal (-y + x^4) of Multivariate Polynomial Ring in y, x over Rational Field"
      ]
     },
     "execution_count": 4,
     "metadata": {},
     "output_type": "execute_result"
    }
   ],
   "source": [
    "#Examples\n",
    "S.<y,x>=PolynomialRing(QQ,2, order=\"lex\")\n",
    "T.<a,b>=PolynomialRing(QQ,2, order=\"lex\")\n",
    "I1n=[ideal(S,[y-fibonacci(n)*x-fibonacci(n-1),x*x-x-1]) for n in range(20)]\n",
    "#I2n=[ideal(S,[(x-z)^2,n*x-y-(n-1)*z]) for n in range(20)]\n",
    "E1=ideal(S,[x^3+2*x^2+2*x+1])\n",
    "L=ideal(S,[y-3*x-2,x*x-x-1])\n",
    "\n",
    "A=Binomials(L,12,2)\n",
    "A"
   ]
  },
  {
   "cell_type": "code",
   "execution_count": 9,
   "metadata": {},
   "outputs": [
    {
     "data": {
      "text/plain": [
       "[]"
      ]
     },
     "execution_count": 9,
     "metadata": {},
     "output_type": "execute_result"
    }
   ],
   "source": [
    "R.<x,y,z,w>=PolynomialRing(QQ,4,order=\"deglex\")\n",
    "S.<x,y,z,w>=PolynomialRing(QQ,4,order=\"lex\")\n",
    "I=ideal(R,[x*x-y*z,y^4-2,z^3-y])\n",
    "monomials(I)"
   ]
  },
  {
   "cell_type": "code",
   "execution_count": 5,
   "metadata": {},
   "outputs": [
    {
     "data": {
      "text/plain": [
       "[[y - 3*x - 2, x^2 - x - 1], [y^2 - 7*y + 1, -1/3*y + x + 2/3]]"
      ]
     },
     "execution_count": 5,
     "metadata": {},
     "output_type": "execute_result"
    }
   ],
   "source": [
    "L.groebner_fan().reduced_groebner_bases()\n",
    "L.groebner_basis()\n",
    "\n",
    "L.groebner_fan().tropical_basis()"
   ]
  },
  {
   "cell_type": "code",
   "execution_count": null,
   "metadata": {},
   "outputs": [],
   "source": []
  },
  {
   "cell_type": "code",
   "execution_count": null,
   "metadata": {},
   "outputs": [],
   "source": [
    "from sage import *\n",
    "A.<x,y,z,w>=PolynomialRing(QQ,4, order=\"lex\")\n",
    "I=ideal(A,[x*x-y,y*z*y-1])\n",
    "T=QuotientRing(A,I)\n",
    "#T.krull_dimension()\n",
    "I.gen()"
   ]
  }
 ],
 "metadata": {
  "kernelspec": {
   "display_name": "SageMath 9.3",
   "language": "sage",
   "name": "sagemath"
  },
  "language_info": {
   "codemirror_mode": {
    "name": "ipython",
    "version": 3
   },
   "file_extension": ".py",
   "mimetype": "text/x-python",
   "name": "python",
   "nbconvert_exporter": "python",
   "pygments_lexer": "ipython3",
   "version": "3.7.10"
  }
 },
 "nbformat": 4,
 "nbformat_minor": 4
}
